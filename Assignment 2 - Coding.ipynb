{
 "cells": [
  {
   "cell_type": "code",
   "execution_count": 22,
   "id": "eec38168",
   "metadata": {},
   "outputs": [
    {
     "name": "stdout",
     "output_type": "stream",
     "text": [
      "Requirement already satisfied: ISLP==0.3.19 in c:\\users\\venus\\anaconda3\\lib\\site-packages (0.3.19)\n",
      "Requirement already satisfied: numpy<1.25,>=1.7.1 in c:\\users\\venus\\anaconda3\\lib\\site-packages (from ISLP==0.3.19) (1.24.3)\n",
      "Requirement already satisfied: scipy>=0.9 in c:\\users\\venus\\anaconda3\\lib\\site-packages (from ISLP==0.3.19) (1.11.1)\n",
      "Requirement already satisfied: pandas<=1.9,>=0.20 in c:\\users\\venus\\anaconda3\\lib\\site-packages (from ISLP==0.3.19) (1.5.3)\n",
      "Requirement already satisfied: lxml in c:\\users\\venus\\anaconda3\\lib\\site-packages (from ISLP==0.3.19) (4.9.3)\n",
      "Requirement already satisfied: scikit-learn>=1.2 in c:\\users\\venus\\anaconda3\\lib\\site-packages (from ISLP==0.3.19) (1.3.0)\n",
      "Requirement already satisfied: joblib in c:\\users\\venus\\anaconda3\\lib\\site-packages (from ISLP==0.3.19) (1.2.0)\n",
      "Requirement already satisfied: statsmodels>=0.13 in c:\\users\\venus\\anaconda3\\lib\\site-packages (from ISLP==0.3.19) (0.14.0)\n",
      "Requirement already satisfied: lifelines in c:\\users\\venus\\anaconda3\\lib\\site-packages (from ISLP==0.3.19) (0.27.8)\n",
      "Requirement already satisfied: pygam in c:\\users\\venus\\anaconda3\\lib\\site-packages (from ISLP==0.3.19) (0.9.0)\n",
      "Requirement already satisfied: torch in c:\\users\\venus\\anaconda3\\lib\\site-packages (from ISLP==0.3.19) (2.1.0)\n",
      "Requirement already satisfied: pytorch-lightning in c:\\users\\venus\\anaconda3\\lib\\site-packages (from ISLP==0.3.19) (2.0.9.post0)\n",
      "Requirement already satisfied: torchmetrics in c:\\users\\venus\\anaconda3\\lib\\site-packages (from ISLP==0.3.19) (1.2.0)\n",
      "Requirement already satisfied: python-dateutil>=2.8.1 in c:\\users\\venus\\anaconda3\\lib\\site-packages (from pandas<=1.9,>=0.20->ISLP==0.3.19) (2.8.2)\n",
      "Requirement already satisfied: pytz>=2020.1 in c:\\users\\venus\\anaconda3\\lib\\site-packages (from pandas<=1.9,>=0.20->ISLP==0.3.19) (2023.3.post1)\n",
      "Requirement already satisfied: threadpoolctl>=2.0.0 in c:\\users\\venus\\anaconda3\\lib\\site-packages (from scikit-learn>=1.2->ISLP==0.3.19) (2.2.0)\n",
      "Requirement already satisfied: patsy>=0.5.2 in c:\\users\\venus\\anaconda3\\lib\\site-packages (from statsmodels>=0.13->ISLP==0.3.19) (0.5.3)\n",
      "Requirement already satisfied: packaging>=21.3 in c:\\users\\venus\\anaconda3\\lib\\site-packages (from statsmodels>=0.13->ISLP==0.3.19) (23.1)\n",
      "Requirement already satisfied: matplotlib>=3.0 in c:\\users\\venus\\anaconda3\\lib\\site-packages (from lifelines->ISLP==0.3.19) (3.7.2)\n",
      "Requirement already satisfied: autograd>=1.5 in c:\\users\\venus\\anaconda3\\lib\\site-packages (from lifelines->ISLP==0.3.19) (1.6.2)\n",
      "Requirement already satisfied: autograd-gamma>=0.3 in c:\\users\\venus\\anaconda3\\lib\\site-packages (from lifelines->ISLP==0.3.19) (0.5.0)\n",
      "Requirement already satisfied: formulaic>=0.2.2 in c:\\users\\venus\\anaconda3\\lib\\site-packages (from lifelines->ISLP==0.3.19) (0.6.6)\n",
      "Requirement already satisfied: progressbar2<5.0.0,>=4.2.0 in c:\\users\\venus\\anaconda3\\lib\\site-packages (from pygam->ISLP==0.3.19) (4.2.0)\n",
      "Requirement already satisfied: tqdm>=4.57.0 in c:\\users\\venus\\anaconda3\\lib\\site-packages (from pytorch-lightning->ISLP==0.3.19) (4.65.0)\n",
      "Requirement already satisfied: PyYAML>=5.4 in c:\\users\\venus\\anaconda3\\lib\\site-packages (from pytorch-lightning->ISLP==0.3.19) (6.0)\n",
      "Requirement already satisfied: fsspec[http]>2021.06.0 in c:\\users\\venus\\anaconda3\\lib\\site-packages (from pytorch-lightning->ISLP==0.3.19) (2023.4.0)\n",
      "Requirement already satisfied: typing-extensions>=4.0.0 in c:\\users\\venus\\anaconda3\\lib\\site-packages (from pytorch-lightning->ISLP==0.3.19) (4.7.1)\n",
      "Requirement already satisfied: lightning-utilities>=0.7.0 in c:\\users\\venus\\anaconda3\\lib\\site-packages (from pytorch-lightning->ISLP==0.3.19) (0.9.0)\n",
      "Requirement already satisfied: filelock in c:\\users\\venus\\anaconda3\\lib\\site-packages (from torch->ISLP==0.3.19) (3.9.0)\n",
      "Requirement already satisfied: sympy in c:\\users\\venus\\anaconda3\\lib\\site-packages (from torch->ISLP==0.3.19) (1.11.1)\n",
      "Requirement already satisfied: networkx in c:\\users\\venus\\anaconda3\\lib\\site-packages (from torch->ISLP==0.3.19) (3.1)\n",
      "Requirement already satisfied: jinja2 in c:\\users\\venus\\anaconda3\\lib\\site-packages (from torch->ISLP==0.3.19) (3.1.2)\n",
      "Requirement already satisfied: future>=0.15.2 in c:\\users\\venus\\anaconda3\\lib\\site-packages (from autograd>=1.5->lifelines->ISLP==0.3.19) (0.18.3)\n",
      "Requirement already satisfied: astor>=0.8 in c:\\users\\venus\\anaconda3\\lib\\site-packages (from formulaic>=0.2.2->lifelines->ISLP==0.3.19) (0.8.1)\n",
      "Requirement already satisfied: interface-meta>=1.2.0 in c:\\users\\venus\\anaconda3\\lib\\site-packages (from formulaic>=0.2.2->lifelines->ISLP==0.3.19) (1.3.0)\n",
      "Requirement already satisfied: wrapt>=1.0 in c:\\users\\venus\\anaconda3\\lib\\site-packages (from formulaic>=0.2.2->lifelines->ISLP==0.3.19) (1.14.1)\n",
      "Requirement already satisfied: requests in c:\\users\\venus\\anaconda3\\lib\\site-packages (from fsspec[http]>2021.06.0->pytorch-lightning->ISLP==0.3.19) (2.31.0)\n",
      "Requirement already satisfied: aiohttp!=4.0.0a0,!=4.0.0a1 in c:\\users\\venus\\anaconda3\\lib\\site-packages (from fsspec[http]>2021.06.0->pytorch-lightning->ISLP==0.3.19) (3.8.5)\n",
      "Requirement already satisfied: contourpy>=1.0.1 in c:\\users\\venus\\anaconda3\\lib\\site-packages (from matplotlib>=3.0->lifelines->ISLP==0.3.19) (1.0.5)\n",
      "Requirement already satisfied: cycler>=0.10 in c:\\users\\venus\\anaconda3\\lib\\site-packages (from matplotlib>=3.0->lifelines->ISLP==0.3.19) (0.11.0)\n",
      "Requirement already satisfied: fonttools>=4.22.0 in c:\\users\\venus\\anaconda3\\lib\\site-packages (from matplotlib>=3.0->lifelines->ISLP==0.3.19) (4.25.0)\n",
      "Requirement already satisfied: kiwisolver>=1.0.1 in c:\\users\\venus\\anaconda3\\lib\\site-packages (from matplotlib>=3.0->lifelines->ISLP==0.3.19) (1.4.4)\n",
      "Requirement already satisfied: pillow>=6.2.0 in c:\\users\\venus\\anaconda3\\lib\\site-packages (from matplotlib>=3.0->lifelines->ISLP==0.3.19) (9.4.0)\n",
      "Requirement already satisfied: pyparsing<3.1,>=2.3.1 in c:\\users\\venus\\anaconda3\\lib\\site-packages (from matplotlib>=3.0->lifelines->ISLP==0.3.19) (3.0.9)\n",
      "Requirement already satisfied: six in c:\\users\\venus\\anaconda3\\lib\\site-packages (from patsy>=0.5.2->statsmodels>=0.13->ISLP==0.3.19) (1.16.0)\n",
      "Requirement already satisfied: python-utils>=3.0.0 in c:\\users\\venus\\anaconda3\\lib\\site-packages (from progressbar2<5.0.0,>=4.2.0->pygam->ISLP==0.3.19) (3.8.1)\n",
      "Requirement already satisfied: colorama in c:\\users\\venus\\anaconda3\\lib\\site-packages (from tqdm>=4.57.0->pytorch-lightning->ISLP==0.3.19) (0.4.6)\n",
      "Requirement already satisfied: MarkupSafe>=2.0 in c:\\users\\venus\\anaconda3\\lib\\site-packages (from jinja2->torch->ISLP==0.3.19) (2.1.1)\n",
      "Requirement already satisfied: mpmath>=0.19 in c:\\users\\venus\\anaconda3\\lib\\site-packages (from sympy->torch->ISLP==0.3.19) (1.3.0)\n",
      "Requirement already satisfied: attrs>=17.3.0 in c:\\users\\venus\\anaconda3\\lib\\site-packages (from aiohttp!=4.0.0a0,!=4.0.0a1->fsspec[http]>2021.06.0->pytorch-lightning->ISLP==0.3.19) (22.1.0)\n",
      "Requirement already satisfied: charset-normalizer<4.0,>=2.0 in c:\\users\\venus\\anaconda3\\lib\\site-packages (from aiohttp!=4.0.0a0,!=4.0.0a1->fsspec[http]>2021.06.0->pytorch-lightning->ISLP==0.3.19) (2.0.4)\n",
      "Requirement already satisfied: multidict<7.0,>=4.5 in c:\\users\\venus\\anaconda3\\lib\\site-packages (from aiohttp!=4.0.0a0,!=4.0.0a1->fsspec[http]>2021.06.0->pytorch-lightning->ISLP==0.3.19) (6.0.2)\n",
      "Requirement already satisfied: async-timeout<5.0,>=4.0.0a3 in c:\\users\\venus\\anaconda3\\lib\\site-packages (from aiohttp!=4.0.0a0,!=4.0.0a1->fsspec[http]>2021.06.0->pytorch-lightning->ISLP==0.3.19) (4.0.2)\n",
      "Requirement already satisfied: yarl<2.0,>=1.0 in c:\\users\\venus\\anaconda3\\lib\\site-packages (from aiohttp!=4.0.0a0,!=4.0.0a1->fsspec[http]>2021.06.0->pytorch-lightning->ISLP==0.3.19) (1.8.1)\n",
      "Requirement already satisfied: frozenlist>=1.1.1 in c:\\users\\venus\\anaconda3\\lib\\site-packages (from aiohttp!=4.0.0a0,!=4.0.0a1->fsspec[http]>2021.06.0->pytorch-lightning->ISLP==0.3.19) (1.3.3)\n",
      "Requirement already satisfied: aiosignal>=1.1.2 in c:\\users\\venus\\anaconda3\\lib\\site-packages (from aiohttp!=4.0.0a0,!=4.0.0a1->fsspec[http]>2021.06.0->pytorch-lightning->ISLP==0.3.19) (1.2.0)\n",
      "Requirement already satisfied: idna<4,>=2.5 in c:\\users\\venus\\anaconda3\\lib\\site-packages (from requests->fsspec[http]>2021.06.0->pytorch-lightning->ISLP==0.3.19) (3.4)\n",
      "Requirement already satisfied: urllib3<3,>=1.21.1 in c:\\users\\venus\\anaconda3\\lib\\site-packages (from requests->fsspec[http]>2021.06.0->pytorch-lightning->ISLP==0.3.19) (1.26.16)\n",
      "Requirement already satisfied: certifi>=2017.4.17 in c:\\users\\venus\\anaconda3\\lib\\site-packages (from requests->fsspec[http]>2021.06.0->pytorch-lightning->ISLP==0.3.19) (2023.7.22)\n"
     ]
    }
   ],
   "source": [
    "!pip install ISLP==0.3.19"
   ]
  },
  {
   "cell_type": "code",
   "execution_count": 23,
   "id": "b8c649eb",
   "metadata": {},
   "outputs": [],
   "source": [
    "import numpy as np\n",
    "import pandas as pd\n",
    "from matplotlib.pyplot import subplots"
   ]
  },
  {
   "cell_type": "code",
   "execution_count": 24,
   "id": "cb9ebdcb",
   "metadata": {},
   "outputs": [],
   "source": [
    "from sklearn.discriminant_analysis import \\\n",
    "     (LinearDiscriminantAnalysis as LDA,\n",
    "      QuadraticDiscriminantAnalysis as QDA)\n",
    "from sklearn.naive_bayes import GaussianNB\n",
    "from sklearn.neighbors import KNeighborsClassifier\n",
    "from sklearn.preprocessing import StandardScaler\n",
    "from sklearn.model_selection import train_test_split\n",
    "from sklearn.linear_model import LogisticRegression\n",
    "from sklearn.preprocessing import PolynomialFeatures\n",
    "from sklearn import datasets, linear_model"
   ]
  },
  {
   "cell_type": "code",
   "execution_count": 25,
   "id": "fda8bc23",
   "metadata": {},
   "outputs": [],
   "source": [
    "import statsmodels.api as sm\n",
    "from statsmodels.stats.outliers_influence import variance_inflation_factor as VIF\n",
    "from statsmodels.stats.anova import anova_lm"
   ]
  },
  {
   "cell_type": "code",
   "execution_count": 26,
   "id": "0a0bf723",
   "metadata": {},
   "outputs": [],
   "source": [
    "from ISLP import load_data\n",
    "from ISLP.models import (ModelSpec as MS, summarize, poly)\n",
    "from ISLP import confusion_table\n",
    "from ISLP.models import contrast"
   ]
  },
  {
   "cell_type": "code",
   "execution_count": 29,
   "id": "54c41e49",
   "metadata": {},
   "outputs": [
    {
     "data": {
      "text/html": [
       "<div>\n",
       "<style scoped>\n",
       "    .dataframe tbody tr th:only-of-type {\n",
       "        vertical-align: middle;\n",
       "    }\n",
       "\n",
       "    .dataframe tbody tr th {\n",
       "        vertical-align: top;\n",
       "    }\n",
       "\n",
       "    .dataframe thead th {\n",
       "        text-align: right;\n",
       "    }\n",
       "</style>\n",
       "<table border=\"1\" class=\"dataframe\">\n",
       "  <thead>\n",
       "    <tr style=\"text-align: right;\">\n",
       "      <th></th>\n",
       "      <th>Year</th>\n",
       "      <th>Lag1</th>\n",
       "      <th>Lag2</th>\n",
       "      <th>Lag3</th>\n",
       "      <th>Lag4</th>\n",
       "      <th>Lag5</th>\n",
       "      <th>Volume</th>\n",
       "      <th>Today</th>\n",
       "      <th>Direction</th>\n",
       "    </tr>\n",
       "  </thead>\n",
       "  <tbody>\n",
       "    <tr>\n",
       "      <th>1084</th>\n",
       "      <td>2010</td>\n",
       "      <td>-0.861</td>\n",
       "      <td>0.043</td>\n",
       "      <td>-2.173</td>\n",
       "      <td>3.599</td>\n",
       "      <td>0.015</td>\n",
       "      <td>3.205160</td>\n",
       "      <td>2.969</td>\n",
       "      <td>Up</td>\n",
       "    </tr>\n",
       "    <tr>\n",
       "      <th>1085</th>\n",
       "      <td>2010</td>\n",
       "      <td>2.969</td>\n",
       "      <td>-0.861</td>\n",
       "      <td>0.043</td>\n",
       "      <td>-2.173</td>\n",
       "      <td>3.599</td>\n",
       "      <td>4.242568</td>\n",
       "      <td>1.281</td>\n",
       "      <td>Up</td>\n",
       "    </tr>\n",
       "    <tr>\n",
       "      <th>1086</th>\n",
       "      <td>2010</td>\n",
       "      <td>1.281</td>\n",
       "      <td>2.969</td>\n",
       "      <td>-0.861</td>\n",
       "      <td>0.043</td>\n",
       "      <td>-2.173</td>\n",
       "      <td>4.835082</td>\n",
       "      <td>0.283</td>\n",
       "      <td>Up</td>\n",
       "    </tr>\n",
       "    <tr>\n",
       "      <th>1087</th>\n",
       "      <td>2010</td>\n",
       "      <td>0.283</td>\n",
       "      <td>1.281</td>\n",
       "      <td>2.969</td>\n",
       "      <td>-0.861</td>\n",
       "      <td>0.043</td>\n",
       "      <td>4.454044</td>\n",
       "      <td>1.034</td>\n",
       "      <td>Up</td>\n",
       "    </tr>\n",
       "    <tr>\n",
       "      <th>1088</th>\n",
       "      <td>2010</td>\n",
       "      <td>1.034</td>\n",
       "      <td>0.283</td>\n",
       "      <td>1.281</td>\n",
       "      <td>2.969</td>\n",
       "      <td>-0.861</td>\n",
       "      <td>2.707105</td>\n",
       "      <td>0.069</td>\n",
       "      <td>Up</td>\n",
       "    </tr>\n",
       "  </tbody>\n",
       "</table>\n",
       "</div>"
      ],
      "text/plain": [
       "      Year   Lag1   Lag2   Lag3   Lag4   Lag5    Volume  Today Direction\n",
       "1084  2010 -0.861  0.043 -2.173  3.599  0.015  3.205160  2.969        Up\n",
       "1085  2010  2.969 -0.861  0.043 -2.173  3.599  4.242568  1.281        Up\n",
       "1086  2010  1.281  2.969 -0.861  0.043 -2.173  4.835082  0.283        Up\n",
       "1087  2010  0.283  1.281  2.969 -0.861  0.043  4.454044  1.034        Up\n",
       "1088  2010  1.034  0.283  1.281  2.969 -0.861  2.707105  0.069        Up"
      ]
     },
     "execution_count": 29,
     "metadata": {},
     "output_type": "execute_result"
    }
   ],
   "source": [
    "Weekly = load_data(\"Weekly\")\n",
    "Weekly.tail()"
   ]
  },
  {
   "cell_type": "markdown",
   "id": "e7f29efd",
   "metadata": {},
   "source": [
    "# Question 3a"
   ]
  },
  {
   "cell_type": "code",
   "execution_count": 30,
   "id": "764b0fb6",
   "metadata": {},
   "outputs": [
    {
     "data": {
      "text/html": [
       "<div>\n",
       "<style scoped>\n",
       "    .dataframe tbody tr th:only-of-type {\n",
       "        vertical-align: middle;\n",
       "    }\n",
       "\n",
       "    .dataframe tbody tr th {\n",
       "        vertical-align: top;\n",
       "    }\n",
       "\n",
       "    .dataframe thead th {\n",
       "        text-align: right;\n",
       "    }\n",
       "</style>\n",
       "<table border=\"1\" class=\"dataframe\">\n",
       "  <thead>\n",
       "    <tr style=\"text-align: right;\">\n",
       "      <th></th>\n",
       "      <th>Year</th>\n",
       "      <th>Lag1</th>\n",
       "      <th>Lag2</th>\n",
       "      <th>Lag3</th>\n",
       "      <th>Lag4</th>\n",
       "      <th>Lag5</th>\n",
       "      <th>Volume</th>\n",
       "      <th>Today</th>\n",
       "    </tr>\n",
       "  </thead>\n",
       "  <tbody>\n",
       "    <tr>\n",
       "      <th>count</th>\n",
       "      <td>1089.000000</td>\n",
       "      <td>1089.000000</td>\n",
       "      <td>1089.000000</td>\n",
       "      <td>1089.000000</td>\n",
       "      <td>1089.000000</td>\n",
       "      <td>1089.000000</td>\n",
       "      <td>1089.000000</td>\n",
       "      <td>1089.000000</td>\n",
       "    </tr>\n",
       "    <tr>\n",
       "      <th>mean</th>\n",
       "      <td>2000.048669</td>\n",
       "      <td>0.150585</td>\n",
       "      <td>0.151079</td>\n",
       "      <td>0.147205</td>\n",
       "      <td>0.145818</td>\n",
       "      <td>0.139893</td>\n",
       "      <td>1.574618</td>\n",
       "      <td>0.149899</td>\n",
       "    </tr>\n",
       "    <tr>\n",
       "      <th>std</th>\n",
       "      <td>6.033182</td>\n",
       "      <td>2.357013</td>\n",
       "      <td>2.357254</td>\n",
       "      <td>2.360502</td>\n",
       "      <td>2.360279</td>\n",
       "      <td>2.361285</td>\n",
       "      <td>1.686636</td>\n",
       "      <td>2.356927</td>\n",
       "    </tr>\n",
       "    <tr>\n",
       "      <th>min</th>\n",
       "      <td>1990.000000</td>\n",
       "      <td>-18.195000</td>\n",
       "      <td>-18.195000</td>\n",
       "      <td>-18.195000</td>\n",
       "      <td>-18.195000</td>\n",
       "      <td>-18.195000</td>\n",
       "      <td>0.087465</td>\n",
       "      <td>-18.195000</td>\n",
       "    </tr>\n",
       "    <tr>\n",
       "      <th>25%</th>\n",
       "      <td>1995.000000</td>\n",
       "      <td>-1.154000</td>\n",
       "      <td>-1.154000</td>\n",
       "      <td>-1.158000</td>\n",
       "      <td>-1.158000</td>\n",
       "      <td>-1.166000</td>\n",
       "      <td>0.332022</td>\n",
       "      <td>-1.154000</td>\n",
       "    </tr>\n",
       "    <tr>\n",
       "      <th>50%</th>\n",
       "      <td>2000.000000</td>\n",
       "      <td>0.241000</td>\n",
       "      <td>0.241000</td>\n",
       "      <td>0.241000</td>\n",
       "      <td>0.238000</td>\n",
       "      <td>0.234000</td>\n",
       "      <td>1.002680</td>\n",
       "      <td>0.241000</td>\n",
       "    </tr>\n",
       "    <tr>\n",
       "      <th>75%</th>\n",
       "      <td>2005.000000</td>\n",
       "      <td>1.405000</td>\n",
       "      <td>1.409000</td>\n",
       "      <td>1.409000</td>\n",
       "      <td>1.409000</td>\n",
       "      <td>1.405000</td>\n",
       "      <td>2.053727</td>\n",
       "      <td>1.405000</td>\n",
       "    </tr>\n",
       "    <tr>\n",
       "      <th>max</th>\n",
       "      <td>2010.000000</td>\n",
       "      <td>12.026000</td>\n",
       "      <td>12.026000</td>\n",
       "      <td>12.026000</td>\n",
       "      <td>12.026000</td>\n",
       "      <td>12.026000</td>\n",
       "      <td>9.328214</td>\n",
       "      <td>12.026000</td>\n",
       "    </tr>\n",
       "  </tbody>\n",
       "</table>\n",
       "</div>"
      ],
      "text/plain": [
       "              Year         Lag1         Lag2         Lag3         Lag4  \\\n",
       "count  1089.000000  1089.000000  1089.000000  1089.000000  1089.000000   \n",
       "mean   2000.048669     0.150585     0.151079     0.147205     0.145818   \n",
       "std       6.033182     2.357013     2.357254     2.360502     2.360279   \n",
       "min    1990.000000   -18.195000   -18.195000   -18.195000   -18.195000   \n",
       "25%    1995.000000    -1.154000    -1.154000    -1.158000    -1.158000   \n",
       "50%    2000.000000     0.241000     0.241000     0.241000     0.238000   \n",
       "75%    2005.000000     1.405000     1.409000     1.409000     1.409000   \n",
       "max    2010.000000    12.026000    12.026000    12.026000    12.026000   \n",
       "\n",
       "              Lag5       Volume        Today  \n",
       "count  1089.000000  1089.000000  1089.000000  \n",
       "mean      0.139893     1.574618     0.149899  \n",
       "std       2.361285     1.686636     2.356927  \n",
       "min     -18.195000     0.087465   -18.195000  \n",
       "25%      -1.166000     0.332022    -1.154000  \n",
       "50%       0.234000     1.002680     0.241000  \n",
       "75%       1.405000     2.053727     1.405000  \n",
       "max      12.026000     9.328214    12.026000  "
      ]
     },
     "execution_count": 30,
     "metadata": {},
     "output_type": "execute_result"
    }
   ],
   "source": [
    "Weekly.describe()"
   ]
  },
  {
   "cell_type": "code",
   "execution_count": 31,
   "id": "2b9ff761",
   "metadata": {},
   "outputs": [
    {
     "data": {
      "image/png": "[encoded data removed]",
      "text/plain": [
       "<Figure size 640x480 with 64 Axes>"
      ]
     },
     "metadata": {},
     "output_type": "display_data"
    }
   ],
   "source": [
    "pd.plotting.scatter_matrix(Weekly, alpha=0.2);"
   ]
  },
  {
   "cell_type": "code",
   "execution_count": 32,
   "id": "799b2c5e",
   "metadata": {
    "scrolled": false
   },
   "outputs": [],
   "source": [
    "%matplotlib inline\n",
    "import seaborn as sns; sns.set()\n",
    "#sns.pairplot(Weekly, hue='Direction');"
   ]
  },
  {
   "cell_type": "code",
   "execution_count": 33,
   "id": "c0ffc3cd",
   "metadata": {
    "scrolled": true
   },
   "outputs": [
    {
     "data": {
      "text/html": [
       "<div>\n",
       "<style scoped>\n",
       "    .dataframe tbody tr th:only-of-type {\n",
       "        vertical-align: middle;\n",
       "    }\n",
       "\n",
       "    .dataframe tbody tr th {\n",
       "        vertical-align: top;\n",
       "    }\n",
       "\n",
       "    .dataframe thead th {\n",
       "        text-align: right;\n",
       "    }\n",
       "</style>\n",
       "<table border=\"1\" class=\"dataframe\">\n",
       "  <thead>\n",
       "    <tr style=\"text-align: right;\">\n",
       "      <th></th>\n",
       "      <th>Year</th>\n",
       "      <th>Lag1</th>\n",
       "      <th>Lag2</th>\n",
       "      <th>Lag3</th>\n",
       "      <th>Lag4</th>\n",
       "      <th>Lag5</th>\n",
       "      <th>Volume</th>\n",
       "      <th>Today</th>\n",
       "    </tr>\n",
       "  </thead>\n",
       "  <tbody>\n",
       "    <tr>\n",
       "      <th>Year</th>\n",
       "      <td>1.000000</td>\n",
       "      <td>-0.032289</td>\n",
       "      <td>-0.033390</td>\n",
       "      <td>-0.030006</td>\n",
       "      <td>-0.031128</td>\n",
       "      <td>-0.030519</td>\n",
       "      <td>0.841942</td>\n",
       "      <td>-0.032460</td>\n",
       "    </tr>\n",
       "    <tr>\n",
       "      <th>Lag1</th>\n",
       "      <td>-0.032289</td>\n",
       "      <td>1.000000</td>\n",
       "      <td>-0.074853</td>\n",
       "      <td>0.058636</td>\n",
       "      <td>-0.071274</td>\n",
       "      <td>-0.008183</td>\n",
       "      <td>-0.064951</td>\n",
       "      <td>-0.075032</td>\n",
       "    </tr>\n",
       "    <tr>\n",
       "      <th>Lag2</th>\n",
       "      <td>-0.033390</td>\n",
       "      <td>-0.074853</td>\n",
       "      <td>1.000000</td>\n",
       "      <td>-0.075721</td>\n",
       "      <td>0.058382</td>\n",
       "      <td>-0.072499</td>\n",
       "      <td>-0.085513</td>\n",
       "      <td>0.059167</td>\n",
       "    </tr>\n",
       "    <tr>\n",
       "      <th>Lag3</th>\n",
       "      <td>-0.030006</td>\n",
       "      <td>0.058636</td>\n",
       "      <td>-0.075721</td>\n",
       "      <td>1.000000</td>\n",
       "      <td>-0.075396</td>\n",
       "      <td>0.060657</td>\n",
       "      <td>-0.069288</td>\n",
       "      <td>-0.071244</td>\n",
       "    </tr>\n",
       "    <tr>\n",
       "      <th>Lag4</th>\n",
       "      <td>-0.031128</td>\n",
       "      <td>-0.071274</td>\n",
       "      <td>0.058382</td>\n",
       "      <td>-0.075396</td>\n",
       "      <td>1.000000</td>\n",
       "      <td>-0.075675</td>\n",
       "      <td>-0.061075</td>\n",
       "      <td>-0.007826</td>\n",
       "    </tr>\n",
       "    <tr>\n",
       "      <th>Lag5</th>\n",
       "      <td>-0.030519</td>\n",
       "      <td>-0.008183</td>\n",
       "      <td>-0.072499</td>\n",
       "      <td>0.060657</td>\n",
       "      <td>-0.075675</td>\n",
       "      <td>1.000000</td>\n",
       "      <td>-0.058517</td>\n",
       "      <td>0.011013</td>\n",
       "    </tr>\n",
       "    <tr>\n",
       "      <th>Volume</th>\n",
       "      <td>0.841942</td>\n",
       "      <td>-0.064951</td>\n",
       "      <td>-0.085513</td>\n",
       "      <td>-0.069288</td>\n",
       "      <td>-0.061075</td>\n",
       "      <td>-0.058517</td>\n",
       "      <td>1.000000</td>\n",
       "      <td>-0.033078</td>\n",
       "    </tr>\n",
       "    <tr>\n",
       "      <th>Today</th>\n",
       "      <td>-0.032460</td>\n",
       "      <td>-0.075032</td>\n",
       "      <td>0.059167</td>\n",
       "      <td>-0.071244</td>\n",
       "      <td>-0.007826</td>\n",
       "      <td>0.011013</td>\n",
       "      <td>-0.033078</td>\n",
       "      <td>1.000000</td>\n",
       "    </tr>\n",
       "  </tbody>\n",
       "</table>\n",
       "</div>"
      ],
      "text/plain": [
       "            Year      Lag1      Lag2      Lag3      Lag4      Lag5    Volume  \\\n",
       "Year    1.000000 -0.032289 -0.033390 -0.030006 -0.031128 -0.030519  0.841942   \n",
       "Lag1   -0.032289  1.000000 -0.074853  0.058636 -0.071274 -0.008183 -0.064951   \n",
       "Lag2   -0.033390 -0.074853  1.000000 -0.075721  0.058382 -0.072499 -0.085513   \n",
       "Lag3   -0.030006  0.058636 -0.075721  1.000000 -0.075396  0.060657 -0.069288   \n",
       "Lag4   -0.031128 -0.071274  0.058382 -0.075396  1.000000 -0.075675 -0.061075   \n",
       "Lag5   -0.030519 -0.008183 -0.072499  0.060657 -0.075675  1.000000 -0.058517   \n",
       "Volume  0.841942 -0.064951 -0.085513 -0.069288 -0.061075 -0.058517  1.000000   \n",
       "Today  -0.032460 -0.075032  0.059167 -0.071244 -0.007826  0.011013 -0.033078   \n",
       "\n",
       "           Today  \n",
       "Year   -0.032460  \n",
       "Lag1   -0.075032  \n",
       "Lag2    0.059167  \n",
       "Lag3   -0.071244  \n",
       "Lag4   -0.007826  \n",
       "Lag5    0.011013  \n",
       "Volume -0.033078  \n",
       "Today   1.000000  "
      ]
     },
     "execution_count": 33,
     "metadata": {},
     "output_type": "execute_result"
    }
   ],
   "source": [
    "Weekly.corr(numeric_only=True)"
   ]
  },
  {
   "cell_type": "markdown",
   "id": "0866a4d8",
   "metadata": {},
   "source": [
    "# Question 3b"
   ]
  },
  {
   "cell_type": "code",
   "execution_count": 34,
   "id": "058b5b78",
   "metadata": {
    "scrolled": false
   },
   "outputs": [
    {
     "data": {
      "text/html": [
       "<table class=\"simpletable\">\n",
       "<caption>Generalized Linear Model Regression Results</caption>\n",
       "<tr>\n",
       "  <th>Dep. Variable:</th>       <td>Direction</td>    <th>  No. Observations:  </th>  <td>  1089</td> \n",
       "</tr>\n",
       "<tr>\n",
       "  <th>Model:</th>                  <td>GLM</td>       <th>  Df Residuals:      </th>  <td>  1082</td> \n",
       "</tr>\n",
       "<tr>\n",
       "  <th>Model Family:</th>        <td>Binomial</td>     <th>  Df Model:          </th>  <td>     6</td> \n",
       "</tr>\n",
       "<tr>\n",
       "  <th>Link Function:</th>         <td>Logit</td>      <th>  Scale:             </th> <td>  1.0000</td>\n",
       "</tr>\n",
       "<tr>\n",
       "  <th>Method:</th>                <td>IRLS</td>       <th>  Log-Likelihood:    </th> <td> -743.18</td>\n",
       "</tr>\n",
       "<tr>\n",
       "  <th>Date:</th>            <td>Sat, 28 Oct 2023</td> <th>  Deviance:          </th> <td>  1486.4</td>\n",
       "</tr>\n",
       "<tr>\n",
       "  <th>Time:</th>                <td>18:00:54</td>     <th>  Pearson chi2:      </th> <td>1.09e+03</td>\n",
       "</tr>\n",
       "<tr>\n",
       "  <th>No. Iterations:</th>          <td>4</td>        <th>  Pseudo R-squ. (CS):</th> <td>0.009000</td>\n",
       "</tr>\n",
       "<tr>\n",
       "  <th>Covariance Type:</th>     <td>nonrobust</td>    <th>                     </th>     <td> </td>   \n",
       "</tr>\n",
       "</table>\n",
       "<table class=\"simpletable\">\n",
       "<tr>\n",
       "      <td></td>         <th>coef</th>     <th>std err</th>      <th>z</th>      <th>P>|z|</th>  <th>[0.025</th>    <th>0.975]</th>  \n",
       "</tr>\n",
       "<tr>\n",
       "  <th>intercept</th> <td>    0.2669</td> <td>    0.086</td> <td>    3.106</td> <td> 0.002</td> <td>    0.098</td> <td>    0.435</td>\n",
       "</tr>\n",
       "<tr>\n",
       "  <th>Lag1</th>      <td>   -0.0413</td> <td>    0.026</td> <td>   -1.563</td> <td> 0.118</td> <td>   -0.093</td> <td>    0.010</td>\n",
       "</tr>\n",
       "<tr>\n",
       "  <th>Lag2</th>      <td>    0.0584</td> <td>    0.027</td> <td>    2.175</td> <td> 0.030</td> <td>    0.006</td> <td>    0.111</td>\n",
       "</tr>\n",
       "<tr>\n",
       "  <th>Lag3</th>      <td>   -0.0161</td> <td>    0.027</td> <td>   -0.602</td> <td> 0.547</td> <td>   -0.068</td> <td>    0.036</td>\n",
       "</tr>\n",
       "<tr>\n",
       "  <th>Lag4</th>      <td>   -0.0278</td> <td>    0.026</td> <td>   -1.050</td> <td> 0.294</td> <td>   -0.080</td> <td>    0.024</td>\n",
       "</tr>\n",
       "<tr>\n",
       "  <th>Lag5</th>      <td>   -0.0145</td> <td>    0.026</td> <td>   -0.549</td> <td> 0.583</td> <td>   -0.066</td> <td>    0.037</td>\n",
       "</tr>\n",
       "<tr>\n",
       "  <th>Volume</th>    <td>   -0.0227</td> <td>    0.037</td> <td>   -0.616</td> <td> 0.538</td> <td>   -0.095</td> <td>    0.050</td>\n",
       "</tr>\n",
       "</table>"
      ],
      "text/latex": [
       "\\begin{center}\n",
       "\\begin{tabular}{lclc}\n",
       "\\toprule\n",
       "\\textbf{Dep. Variable:}   &    Direction     & \\textbf{  No. Observations:  } &     1089    \\\\\n",
       "\\textbf{Model:}           &       GLM        & \\textbf{  Df Residuals:      } &     1082    \\\\\n",
       "\\textbf{Model Family:}    &     Binomial     & \\textbf{  Df Model:          } &        6    \\\\\n",
       "\\textbf{Link Function:}   &      Logit       & \\textbf{  Scale:             } &    1.0000   \\\\\n",
       "\\textbf{Method:}          &       IRLS       & \\textbf{  Log-Likelihood:    } &   -743.18   \\\\\n",
       "\\textbf{Date:}            & Sat, 28 Oct 2023 & \\textbf{  Deviance:          } &    1486.4   \\\\\n",
       "\\textbf{Time:}            &     18:00:54     & \\textbf{  Pearson chi2:      } &  1.09e+03   \\\\\n",
       "\\textbf{No. Iterations:}  &        4         & \\textbf{  Pseudo R-squ. (CS):} &  0.009000   \\\\\n",
       "\\textbf{Covariance Type:} &    nonrobust     & \\textbf{                     } &             \\\\\n",
       "\\bottomrule\n",
       "\\end{tabular}\n",
       "\\begin{tabular}{lcccccc}\n",
       "                   & \\textbf{coef} & \\textbf{std err} & \\textbf{z} & \\textbf{P$> |$z$|$} & \\textbf{[0.025} & \\textbf{0.975]}  \\\\\n",
       "\\midrule\n",
       "\\textbf{intercept} &       0.2669  &        0.086     &     3.106  &         0.002        &        0.098    &        0.435     \\\\\n",
       "\\textbf{Lag1}      &      -0.0413  &        0.026     &    -1.563  &         0.118        &       -0.093    &        0.010     \\\\\n",
       "\\textbf{Lag2}      &       0.0584  &        0.027     &     2.175  &         0.030        &        0.006    &        0.111     \\\\\n",
       "\\textbf{Lag3}      &      -0.0161  &        0.027     &    -0.602  &         0.547        &       -0.068    &        0.036     \\\\\n",
       "\\textbf{Lag4}      &      -0.0278  &        0.026     &    -1.050  &         0.294        &       -0.080    &        0.024     \\\\\n",
       "\\textbf{Lag5}      &      -0.0145  &        0.026     &    -0.549  &         0.583        &       -0.066    &        0.037     \\\\\n",
       "\\textbf{Volume}    &      -0.0227  &        0.037     &    -0.616  &         0.538        &       -0.095    &        0.050     \\\\\n",
       "\\bottomrule\n",
       "\\end{tabular}\n",
       "%\\caption{Generalized Linear Model Regression Results}\n",
       "\\end{center}"
      ],
      "text/plain": [
       "<class 'statsmodels.iolib.summary.Summary'>\n",
       "\"\"\"\n",
       "                 Generalized Linear Model Regression Results                  \n",
       "==============================================================================\n",
       "Dep. Variable:              Direction   No. Observations:                 1089\n",
       "Model:                            GLM   Df Residuals:                     1082\n",
       "Model Family:                Binomial   Df Model:                            6\n",
       "Link Function:                  Logit   Scale:                          1.0000\n",
       "Method:                          IRLS   Log-Likelihood:                -743.18\n",
       "Date:                Sat, 28 Oct 2023   Deviance:                       1486.4\n",
       "Time:                        18:00:54   Pearson chi2:                 1.09e+03\n",
       "No. Iterations:                     4   Pseudo R-squ. (CS):           0.009000\n",
       "Covariance Type:            nonrobust                                         \n",
       "==============================================================================\n",
       "                 coef    std err          z      P>|z|      [0.025      0.975]\n",
       "------------------------------------------------------------------------------\n",
       "intercept      0.2669      0.086      3.106      0.002       0.098       0.435\n",
       "Lag1          -0.0413      0.026     -1.563      0.118      -0.093       0.010\n",
       "Lag2           0.0584      0.027      2.175      0.030       0.006       0.111\n",
       "Lag3          -0.0161      0.027     -0.602      0.547      -0.068       0.036\n",
       "Lag4          -0.0278      0.026     -1.050      0.294      -0.080       0.024\n",
       "Lag5          -0.0145      0.026     -0.549      0.583      -0.066       0.037\n",
       "Volume        -0.0227      0.037     -0.616      0.538      -0.095       0.050\n",
       "==============================================================================\n",
       "\"\"\""
      ]
     },
     "execution_count": 34,
     "metadata": {},
     "output_type": "execute_result"
    }
   ],
   "source": [
    "Vars = Weekly.columns.drop(['Today', 'Direction', 'Year'])\n",
    "design = MS(Vars)\n",
    "X = design.fit_transform(Weekly)  # transform the data defined in ModelSpec\n",
    "y = Weekly.Direction == 'Up'  # boolean series\n",
    "glm = sm.GLM(y, X, family=sm.families.Binomial()) # specify as binomial for LR\n",
    "results = glm.fit()\n",
    "results.summary()"
   ]
  },
  {
   "cell_type": "markdown",
   "id": "329f7f47",
   "metadata": {},
   "source": [
    "# Question 3c"
   ]
  },
  {
   "cell_type": "code",
   "execution_count": 35,
   "id": "5b9e4e1a",
   "metadata": {},
   "outputs": [
    {
     "data": {
      "text/html": [
       "<div>\n",
       "<style scoped>\n",
       "    .dataframe tbody tr th:only-of-type {\n",
       "        vertical-align: middle;\n",
       "    }\n",
       "\n",
       "    .dataframe tbody tr th {\n",
       "        vertical-align: top;\n",
       "    }\n",
       "\n",
       "    .dataframe thead th {\n",
       "        text-align: right;\n",
       "    }\n",
       "</style>\n",
       "<table border=\"1\" class=\"dataframe\">\n",
       "  <thead>\n",
       "    <tr style=\"text-align: right;\">\n",
       "      <th>Truth</th>\n",
       "      <th>Down</th>\n",
       "      <th>Up</th>\n",
       "    </tr>\n",
       "    <tr>\n",
       "      <th>Predicted</th>\n",
       "      <th></th>\n",
       "      <th></th>\n",
       "    </tr>\n",
       "  </thead>\n",
       "  <tbody>\n",
       "    <tr>\n",
       "      <th>Down</th>\n",
       "      <td>54</td>\n",
       "      <td>48</td>\n",
       "    </tr>\n",
       "    <tr>\n",
       "      <th>Up</th>\n",
       "      <td>430</td>\n",
       "      <td>557</td>\n",
       "    </tr>\n",
       "  </tbody>\n",
       "</table>\n",
       "</div>"
      ],
      "text/plain": [
       "Truth      Down   Up\n",
       "Predicted           \n",
       "Down         54   48\n",
       "Up          430  557"
      ]
     },
     "execution_count": 35,
     "metadata": {},
     "output_type": "execute_result"
    }
   ],
   "source": [
    "probs = results.predict()\n",
    "labels = np.array(['Down']*1089)\n",
    "labels[probs>0.5] = \"Up\"\n",
    "confusion_table(labels, Weekly.Direction)"
   ]
  },
  {
   "cell_type": "markdown",
   "id": "ae012ced",
   "metadata": {},
   "source": [
    "# Question 3d"
   ]
  },
  {
   "cell_type": "code",
   "execution_count": 36,
   "id": "842ca1ed",
   "metadata": {},
   "outputs": [],
   "source": [
    "train = (Weekly.Year < 2009)\n",
    "Weekly_train = Weekly.loc[train]\n",
    "Weekly_test = Weekly.loc[~train]\n",
    "allvars = Weekly.columns.drop(['Today', 'Direction', 'Year', 'Volume', 'Lag1', 'Lag3', 'Lag4', 'Lag5'])\n",
    "design = MS(allvars)\n",
    "X = design.fit_transform(Weekly) # transform the data defined in ModelSpec\n",
    "y = Weekly.Direction == 'Up'  # boolean series\n",
    "\n",
    "X_train, X_test = X.loc[train], X.loc[~train]\n",
    "y_train, y_test = y.loc[train], y.loc[~train]\n",
    "\n",
    "glm_train = sm.GLM(y_train, X_train, family=sm.families.Binomial())\n",
    "results = glm_train.fit()\n",
    "probs = results.predict(exog=X_test)"
   ]
  },
  {
   "cell_type": "code",
   "execution_count": 37,
   "id": "784977cb",
   "metadata": {},
   "outputs": [],
   "source": [
    "D = Weekly.Direction\n",
    "L_train, L_test = D.loc[train], D.loc[~train]"
   ]
  },
  {
   "cell_type": "code",
   "execution_count": 39,
   "id": "02d1ec31",
   "metadata": {},
   "outputs": [
    {
     "data": {
      "text/html": [
       "<div>\n",
       "<style scoped>\n",
       "    .dataframe tbody tr th:only-of-type {\n",
       "        vertical-align: middle;\n",
       "    }\n",
       "\n",
       "    .dataframe tbody tr th {\n",
       "        vertical-align: top;\n",
       "    }\n",
       "\n",
       "    .dataframe thead th {\n",
       "        text-align: right;\n",
       "    }\n",
       "</style>\n",
       "<table border=\"1\" class=\"dataframe\">\n",
       "  <thead>\n",
       "    <tr style=\"text-align: right;\">\n",
       "      <th>Truth</th>\n",
       "      <th>Down</th>\n",
       "      <th>Up</th>\n",
       "    </tr>\n",
       "    <tr>\n",
       "      <th>Predicted</th>\n",
       "      <th></th>\n",
       "      <th></th>\n",
       "    </tr>\n",
       "  </thead>\n",
       "  <tbody>\n",
       "    <tr>\n",
       "      <th>Down</th>\n",
       "      <td>9</td>\n",
       "      <td>5</td>\n",
       "    </tr>\n",
       "    <tr>\n",
       "      <th>Up</th>\n",
       "      <td>34</td>\n",
       "      <td>56</td>\n",
       "    </tr>\n",
       "  </tbody>\n",
       "</table>\n",
       "</div>"
      ],
      "text/plain": [
       "Truth      Down  Up\n",
       "Predicted          \n",
       "Down          9   5\n",
       "Up           34  56"
      ]
     },
     "execution_count": 39,
     "metadata": {},
     "output_type": "execute_result"
    }
   ],
   "source": [
    "labels = np.array(['Down']*104)\n",
    "labels[probs>0.5] = 'Up'\n",
    "confusion_table(labels, L_test)"
   ]
  },
  {
   "cell_type": "markdown",
   "id": "a1bf4196",
   "metadata": {},
   "source": [
    "# Question 3E (IDA)"
   ]
  },
  {
   "cell_type": "code",
   "execution_count": 42,
   "id": "dc8102c5",
   "metadata": {},
   "outputs": [
    {
     "data": {
      "text/html": [
       "<div>\n",
       "<style scoped>\n",
       "    .dataframe tbody tr th:only-of-type {\n",
       "        vertical-align: middle;\n",
       "    }\n",
       "\n",
       "    .dataframe tbody tr th {\n",
       "        vertical-align: top;\n",
       "    }\n",
       "\n",
       "    .dataframe thead th {\n",
       "        text-align: right;\n",
       "    }\n",
       "</style>\n",
       "<table border=\"1\" class=\"dataframe\">\n",
       "  <thead>\n",
       "    <tr style=\"text-align: right;\">\n",
       "      <th>Truth</th>\n",
       "      <th>Down</th>\n",
       "      <th>Up</th>\n",
       "    </tr>\n",
       "    <tr>\n",
       "      <th>Predicted</th>\n",
       "      <th></th>\n",
       "      <th></th>\n",
       "    </tr>\n",
       "  </thead>\n",
       "  <tbody>\n",
       "    <tr>\n",
       "      <th>Down</th>\n",
       "      <td>9</td>\n",
       "      <td>5</td>\n",
       "    </tr>\n",
       "    <tr>\n",
       "      <th>Up</th>\n",
       "      <td>34</td>\n",
       "      <td>56</td>\n",
       "    </tr>\n",
       "  </tbody>\n",
       "</table>\n",
       "</div>"
      ],
      "text/plain": [
       "Truth      Down  Up\n",
       "Predicted          \n",
       "Down          9   5\n",
       "Up           34  56"
      ]
     },
     "execution_count": 42,
     "metadata": {},
     "output_type": "execute_result"
    }
   ],
   "source": [
    "lda = LDA(store_covariance=True)\n",
    "X_train, X_test = [M.drop(columns=['intercept'])  for M in [X_train, X_test]]\n",
    "lda.fit(X_train, L_train)\n",
    "lda_pred = lda.predict(X_test)\n",
    "\n",
    "confusion_table(labels, L_test)"
   ]
  },
  {
   "cell_type": "code",
   "execution_count": 43,
   "id": "36f0dc16",
   "metadata": {},
   "outputs": [
    {
     "data": {
      "text/plain": [
       "0.625"
      ]
     },
     "execution_count": 43,
     "metadata": {},
     "output_type": "execute_result"
    }
   ],
   "source": [
    "np.mean(lda_pred == L_test)"
   ]
  },
  {
   "cell_type": "markdown",
   "id": "6a44eda8",
   "metadata": {},
   "source": [
    "# Question 3f(QDA)"
   ]
  },
  {
   "cell_type": "code",
   "execution_count": 44,
   "id": "0200ba45",
   "metadata": {},
   "outputs": [
    {
     "data": {
      "text/html": [
       "<div>\n",
       "<style scoped>\n",
       "    .dataframe tbody tr th:only-of-type {\n",
       "        vertical-align: middle;\n",
       "    }\n",
       "\n",
       "    .dataframe tbody tr th {\n",
       "        vertical-align: top;\n",
       "    }\n",
       "\n",
       "    .dataframe thead th {\n",
       "        text-align: right;\n",
       "    }\n",
       "</style>\n",
       "<table border=\"1\" class=\"dataframe\">\n",
       "  <thead>\n",
       "    <tr style=\"text-align: right;\">\n",
       "      <th>Truth</th>\n",
       "      <th>Down</th>\n",
       "      <th>Up</th>\n",
       "    </tr>\n",
       "    <tr>\n",
       "      <th>Predicted</th>\n",
       "      <th></th>\n",
       "      <th></th>\n",
       "    </tr>\n",
       "  </thead>\n",
       "  <tbody>\n",
       "    <tr>\n",
       "      <th>Down</th>\n",
       "      <td>0</td>\n",
       "      <td>0</td>\n",
       "    </tr>\n",
       "    <tr>\n",
       "      <th>Up</th>\n",
       "      <td>43</td>\n",
       "      <td>61</td>\n",
       "    </tr>\n",
       "  </tbody>\n",
       "</table>\n",
       "</div>"
      ],
      "text/plain": [
       "Truth      Down  Up\n",
       "Predicted          \n",
       "Down          0   0\n",
       "Up           43  61"
      ]
     },
     "execution_count": 44,
     "metadata": {},
     "output_type": "execute_result"
    }
   ],
   "source": [
    "qda = QDA(store_covariance=True)\n",
    "qda.fit(X_train, L_train)\n",
    "qda_pred = qda.predict(X_test)\n",
    "confusion_table(qda_pred, L_test)"
   ]
  },
  {
   "cell_type": "code",
   "execution_count": 45,
   "id": "535f107a",
   "metadata": {},
   "outputs": [
    {
     "data": {
      "text/plain": [
       "0.5865384615384616"
      ]
     },
     "execution_count": 45,
     "metadata": {},
     "output_type": "execute_result"
    }
   ],
   "source": [
    "np.mean(qda_pred == L_test)"
   ]
  },
  {
   "cell_type": "markdown",
   "id": "606b4f0c",
   "metadata": {},
   "source": [
    "# Question 3g(KNN)"
   ]
  },
  {
   "cell_type": "code",
   "execution_count": 46,
   "id": "4014628d",
   "metadata": {},
   "outputs": [
    {
     "data": {
      "text/html": [
       "<div>\n",
       "<style scoped>\n",
       "    .dataframe tbody tr th:only-of-type {\n",
       "        vertical-align: middle;\n",
       "    }\n",
       "\n",
       "    .dataframe tbody tr th {\n",
       "        vertical-align: top;\n",
       "    }\n",
       "\n",
       "    .dataframe thead th {\n",
       "        text-align: right;\n",
       "    }\n",
       "</style>\n",
       "<table border=\"1\" class=\"dataframe\">\n",
       "  <thead>\n",
       "    <tr style=\"text-align: right;\">\n",
       "      <th>Truth</th>\n",
       "      <th>Down</th>\n",
       "      <th>Up</th>\n",
       "    </tr>\n",
       "    <tr>\n",
       "      <th>Predicted</th>\n",
       "      <th></th>\n",
       "      <th></th>\n",
       "    </tr>\n",
       "  </thead>\n",
       "  <tbody>\n",
       "    <tr>\n",
       "      <th>Down</th>\n",
       "      <td>22</td>\n",
       "      <td>31</td>\n",
       "    </tr>\n",
       "    <tr>\n",
       "      <th>Up</th>\n",
       "      <td>21</td>\n",
       "      <td>30</td>\n",
       "    </tr>\n",
       "  </tbody>\n",
       "</table>\n",
       "</div>"
      ],
      "text/plain": [
       "Truth      Down  Up\n",
       "Predicted          \n",
       "Down         22  31\n",
       "Up           21  30"
      ]
     },
     "execution_count": 46,
     "metadata": {},
     "output_type": "execute_result"
    }
   ],
   "source": [
    "knn2 = KNeighborsClassifier(n_neighbors=1)\n",
    "knn2.fit(X_train , L_train)\n",
    "knn2_pred = knn2.predict(X_test)\n",
    "confusion_table(knn2_pred , L_test)"
   ]
  },
  {
   "cell_type": "code",
   "execution_count": 47,
   "id": "c465520f",
   "metadata": {},
   "outputs": [
    {
     "data": {
      "text/plain": [
       "0.5"
      ]
     },
     "execution_count": 47,
     "metadata": {},
     "output_type": "execute_result"
    }
   ],
   "source": [
    "np.mean(knn2_pred == L_test)"
   ]
  },
  {
   "cell_type": "markdown",
   "id": "8f7f9e32",
   "metadata": {},
   "source": [
    "# Question 6"
   ]
  },
  {
   "cell_type": "markdown",
   "id": "91c42ca3",
   "metadata": {},
   "source": [
    "# Question 6a"
   ]
  },
  {
   "cell_type": "code",
   "execution_count": 48,
   "id": "ca2ae891",
   "metadata": {},
   "outputs": [],
   "source": [
    "np.random.seed(1)\n",
    "y = np.random.normal(loc=0, scale=1, size=100)\n",
    "x = np.random.normal(loc=0, scale=1, size=100)\n",
    "y = x - 2 * x**2 + np.random.normal(loc=0, scale=1, size=100)"
   ]
  },
  {
   "cell_type": "markdown",
   "id": "c5b4974f",
   "metadata": {},
   "source": [
    "# Question 6b"
   ]
  },
  {
   "cell_type": "code",
   "execution_count": 52,
   "id": "9ccbfc80",
   "metadata": {},
   "outputs": [
    {
     "data": {
      "text/plain": [
       "<Axes: >"
      ]
     },
     "execution_count": 52,
     "metadata": {},
     "output_type": "execute_result"
    },
    {
     "data": {
      "image/png": "[encoded data removed]",
      "text/plain": [
       "<Figure size 640x480 with 1 Axes>"
      ]
     },
     "metadata": {},
     "output_type": "display_data"
    }
   ],
   "source": [
    "import seaborn as sns\n",
    "sns.scatterplot(x = x , y = y)"
   ]
  },
  {
   "cell_type": "markdown",
   "id": "d1f295ba",
   "metadata": {},
   "source": [
    "# Question 6c"
   ]
  },
  {
   "cell_type": "code",
   "execution_count": 158,
   "id": "fcf4d230",
   "metadata": {},
   "outputs": [],
   "source": [
    "from sklearn.linear_model import LinearRegression\n",
    "\n",
    "def LOOCV (df):\n",
    "    y=df['y']\n",
    "    X=df.iloc[:,1:]\n",
    "    \n",
    "    model = LinearRegression()\n",
    "    model.fit(X,y)\n",
    "    pred=model.predict(X)\n",
    "    error = y - pred\n",
    "    LOOCV_error = error**2\n",
    "        \n",
    "    return np.mean(LOOCV_error)"
   ]
  },
  {
   "cell_type": "code",
   "execution_count": 159,
   "id": "c4c1a1df",
   "metadata": {},
   "outputs": [
    {
     "data": {
      "text/plain": [
       "[0.931205021944751, 0.9310212259289102, 0.9254989021411361, 0.9195178806463727]"
      ]
     },
     "execution_count": 159,
     "metadata": {},
     "output_type": "execute_result"
    }
   ],
   "source": [
    "Data1 = pd.DataFrame({'y':y,'x':x}) #Y = β0 + β1X + ε\n",
    "Data2 = Data1.copy()\n",
    "Data2['x2']=Data2['x']**2 #Y = β0 + β1X + β2X2 + ε\n",
    "Data3 = Data2.copy() \n",
    "Data3['x3']=Data3['x']**3 #Y = β0 + β1X + β2X2 + β3X3 + ε\n",
    "Data4 = Data3.copy()\n",
    "Data4['x4']=Data4['x']**4 #= β0 + β1X + β2X2 + β3X3 + β4X4 + ε.\n",
    "\n",
    "loocv=[LOOCV(Data1),LOOCV(Data2),LOOCV(Data3),LOOCV(Data4)]\n",
    "loocv"
   ]
  },
  {
   "cell_type": "markdown",
   "id": "83a6396e",
   "metadata": {},
   "source": [
    "# Question 6d"
   ]
  },
  {
   "cell_type": "code",
   "execution_count": 160,
   "id": "f8beb247",
   "metadata": {},
   "outputs": [
    {
     "data": {
      "text/plain": [
       "[0.931205021944751, 0.9310212259289102, 0.9254989021411361, 0.9195178806463727]"
      ]
     },
     "execution_count": 160,
     "metadata": {},
     "output_type": "execute_result"
    }
   ],
   "source": [
    "np.random.seed(20)\n",
    "Data1 = pd.DataFrame({'y':y,'x':x}) #Y = β0 + β1X + ε\n",
    "Data2 = Data1.copy()\n",
    "Data2['x2']=Data2['x']**2 #Y = β0 + β1X + β2X2 + ε\n",
    "Data3 = Data2.copy() \n",
    "Data3['x3']=Data3['x']**3 #Y = β0 + β1X + β2X2 + β3X3 + ε\n",
    "Data4 = Data3.copy()\n",
    "Data4['x4']=Data4['x']**4 #= β0 + β1X + β2X2 + β3X3 + β4X4 + ε.\n",
    "\n",
    "loocv=[LOOCV(Data1),LOOCV(Data2),LOOCV(Data3),LOOCV(Data4)]\n",
    "loocv"
   ]
  },
  {
   "cell_type": "markdown",
   "id": "0a0c8ef6",
   "metadata": {},
   "source": [
    "# Question 6e"
   ]
  },
  {
   "cell_type": "code",
   "execution_count": 163,
   "id": "cba1f8a4",
   "metadata": {},
   "outputs": [
    {
     "data": {
      "text/html": [
       "<table class=\"simpletable\">\n",
       "<caption>OLS Regression Results</caption>\n",
       "<tr>\n",
       "  <th>Dep. Variable:</th>            <td>y</td>        <th>  R-squared (uncentered):</th>      <td>   0.005</td>\n",
       "</tr>\n",
       "<tr>\n",
       "  <th>Model:</th>                   <td>OLS</td>       <th>  Adj. R-squared (uncentered):</th> <td>  -0.005</td>\n",
       "</tr>\n",
       "<tr>\n",
       "  <th>Method:</th>             <td>Least Squares</td>  <th>  F-statistic:       </th>          <td>  0.4936</td>\n",
       "</tr>\n",
       "<tr>\n",
       "  <th>Date:</th>             <td>Sun, 29 Oct 2023</td> <th>  Prob (F-statistic):</th>           <td> 0.484</td> \n",
       "</tr>\n",
       "<tr>\n",
       "  <th>Time:</th>                 <td>03:29:35</td>     <th>  Log-Likelihood:    </th>          <td> -138.63</td>\n",
       "</tr>\n",
       "<tr>\n",
       "  <th>No. Observations:</th>      <td>   100</td>      <th>  AIC:               </th>          <td>   279.3</td>\n",
       "</tr>\n",
       "<tr>\n",
       "  <th>Df Residuals:</th>          <td>    99</td>      <th>  BIC:               </th>          <td>   281.9</td>\n",
       "</tr>\n",
       "<tr>\n",
       "  <th>Df Model:</th>              <td>     1</td>      <th>                     </th>              <td> </td>   \n",
       "</tr>\n",
       "<tr>\n",
       "  <th>Covariance Type:</th>      <td>nonrobust</td>    <th>                     </th>              <td> </td>   \n",
       "</tr>\n",
       "</table>\n",
       "<table class=\"simpletable\">\n",
       "<tr>\n",
       "   <td></td>     <th>coef</th>     <th>std err</th>      <th>t</th>      <th>P>|t|</th>  <th>[0.025</th>    <th>0.975]</th>  \n",
       "</tr>\n",
       "<tr>\n",
       "  <th>x1</th> <td>    0.0692</td> <td>    0.098</td> <td>    0.703</td> <td> 0.484</td> <td>   -0.126</td> <td>    0.265</td>\n",
       "</tr>\n",
       "</table>\n",
       "<table class=\"simpletable\">\n",
       "<tr>\n",
       "  <th>Omnibus:</th>       <td> 0.339</td> <th>  Durbin-Watson:     </th> <td>   2.048</td>\n",
       "</tr>\n",
       "<tr>\n",
       "  <th>Prob(Omnibus):</th> <td> 0.844</td> <th>  Jarque-Bera (JB):  </th> <td>   0.069</td>\n",
       "</tr>\n",
       "<tr>\n",
       "  <th>Skew:</th>          <td> 0.025</td> <th>  Prob(JB):          </th> <td>   0.966</td>\n",
       "</tr>\n",
       "<tr>\n",
       "  <th>Kurtosis:</th>      <td> 3.119</td> <th>  Cond. No.          </th> <td>    1.00</td>\n",
       "</tr>\n",
       "</table><br/><br/>Notes:<br/>[1] R² is computed without centering (uncentered) since the model does not contain a constant.<br/>[2] Standard Errors assume that the covariance matrix of the errors is correctly specified."
      ],
      "text/latex": [
       "\\begin{center}\n",
       "\\begin{tabular}{lclc}\n",
       "\\toprule\n",
       "\\textbf{Dep. Variable:}    &        y         & \\textbf{  R-squared (uncentered):}      &     0.005   \\\\\n",
       "\\textbf{Model:}            &       OLS        & \\textbf{  Adj. R-squared (uncentered):} &    -0.005   \\\\\n",
       "\\textbf{Method:}           &  Least Squares   & \\textbf{  F-statistic:       }          &    0.4936   \\\\\n",
       "\\textbf{Date:}             & Sun, 29 Oct 2023 & \\textbf{  Prob (F-statistic):}          &    0.484    \\\\\n",
       "\\textbf{Time:}             &     03:29:35     & \\textbf{  Log-Likelihood:    }          &   -138.63   \\\\\n",
       "\\textbf{No. Observations:} &         100      & \\textbf{  AIC:               }          &     279.3   \\\\\n",
       "\\textbf{Df Residuals:}     &          99      & \\textbf{  BIC:               }          &     281.9   \\\\\n",
       "\\textbf{Df Model:}         &           1      & \\textbf{                     }          &             \\\\\n",
       "\\textbf{Covariance Type:}  &    nonrobust     & \\textbf{                     }          &             \\\\\n",
       "\\bottomrule\n",
       "\\end{tabular}\n",
       "\\begin{tabular}{lcccccc}\n",
       "            & \\textbf{coef} & \\textbf{std err} & \\textbf{t} & \\textbf{P$> |$t$|$} & \\textbf{[0.025} & \\textbf{0.975]}  \\\\\n",
       "\\midrule\n",
       "\\textbf{x1} &       0.0692  &        0.098     &     0.703  &         0.484        &       -0.126    &        0.265     \\\\\n",
       "\\bottomrule\n",
       "\\end{tabular}\n",
       "\\begin{tabular}{lclc}\n",
       "\\textbf{Omnibus:}       &  0.339 & \\textbf{  Durbin-Watson:     } &    2.048  \\\\\n",
       "\\textbf{Prob(Omnibus):} &  0.844 & \\textbf{  Jarque-Bera (JB):  } &    0.069  \\\\\n",
       "\\textbf{Skew:}          &  0.025 & \\textbf{  Prob(JB):          } &    0.966  \\\\\n",
       "\\textbf{Kurtosis:}      &  3.119 & \\textbf{  Cond. No.          } &     1.00  \\\\\n",
       "\\bottomrule\n",
       "\\end{tabular}\n",
       "%\\caption{OLS Regression Results}\n",
       "\\end{center}\n",
       "\n",
       "Notes: \\newline\n",
       " [1] R² is computed without centering (uncentered) since the model does not contain a constant. \\newline\n",
       " [2] Standard Errors assume that the covariance matrix of the errors is correctly specified."
      ],
      "text/plain": [
       "<class 'statsmodels.iolib.summary.Summary'>\n",
       "\"\"\"\n",
       "                                 OLS Regression Results                                \n",
       "=======================================================================================\n",
       "Dep. Variable:                      y   R-squared (uncentered):                   0.005\n",
       "Model:                            OLS   Adj. R-squared (uncentered):             -0.005\n",
       "Method:                 Least Squares   F-statistic:                             0.4936\n",
       "Date:                Sun, 29 Oct 2023   Prob (F-statistic):                       0.484\n",
       "Time:                        03:29:35   Log-Likelihood:                         -138.63\n",
       "No. Observations:                 100   AIC:                                      279.3\n",
       "Df Residuals:                      99   BIC:                                      281.9\n",
       "Df Model:                           1                                                  \n",
       "Covariance Type:            nonrobust                                                  \n",
       "==============================================================================\n",
       "                 coef    std err          t      P>|t|      [0.025      0.975]\n",
       "------------------------------------------------------------------------------\n",
       "x1             0.0692      0.098      0.703      0.484      -0.126       0.265\n",
       "==============================================================================\n",
       "Omnibus:                        0.339   Durbin-Watson:                   2.048\n",
       "Prob(Omnibus):                  0.844   Jarque-Bera (JB):                0.069\n",
       "Skew:                           0.025   Prob(JB):                        0.966\n",
       "Kurtosis:                       3.119   Cond. No.                         1.00\n",
       "==============================================================================\n",
       "\n",
       "Notes:\n",
       "[1] R² is computed without centering (uncentered) since the model does not contain a constant.\n",
       "[2] Standard Errors assume that the covariance matrix of the errors is correctly specified.\n",
       "\"\"\""
      ]
     },
     "execution_count": 163,
     "metadata": {},
     "output_type": "execute_result"
    }
   ],
   "source": [
    "import statsmodels.api as sm\n",
    "y=Data4['y']\n",
    "X=Data4.iloc[:,1:]\n",
    "    \n",
    "model = sm.OLS(y, x).fit()\n",
    "model.summary()"
   ]
  },
  {
   "cell_type": "code",
   "execution_count": null,
   "id": "f5ec87f4",
   "metadata": {},
   "outputs": [],
   "source": []
  }
 ],
 "metadata": {
  "kernelspec": {
   "display_name": "Python 3 (ipykernel)",
   "language": "python",
   "name": "python3"
  },
  "language_info": {
   "codemirror_mode": {
    "name": "ipython",
    "version": 3
   },
   "file_extension": ".py",
   "mimetype": "text/x-python",
   "name": "python",
   "nbconvert_exporter": "python",
   "pygments_lexer": "ipython3",
   "version": "3.11.5"
  }
 },
 "nbformat": 4,
 "nbformat_minor": 5
}
