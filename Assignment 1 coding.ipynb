{
 "cells": [
  {
   "cell_type": "markdown",
   "id": "55a20ba1",
   "metadata": {},
   "source": [
    "\n",
    "# Assignment 1 - appendix"
   ]
  },
  {
   "cell_type": "code",
   "execution_count": 1,
   "id": "d39d9e64",
   "metadata": {},
   "outputs": [],
   "source": [
    "import numpy as np #computations\n",
    "import pandas as pd #data processing"
   ]
  },
  {
   "cell_type": "code",
   "execution_count": 2,
   "id": "59c1a2e2",
   "metadata": {},
   "outputs": [],
   "source": [
    "import statsmodels.api as sm\n",
    "from statsmodels.stats.outliers_influence import variance_inflation_factor as VIF\n",
    "from statsmodels.stats.anova import anova_lm"
   ]
  },
  {
   "cell_type": "code",
   "execution_count": 1,
   "id": "13d37143",
   "metadata": {},
   "outputs": [
    {
     "name": "stdout",
     "output_type": "stream",
     "text": [
      "Requirement already satisfied: ISLP==0.3.19 in c:\\users\\venus\\anaconda3\\lib\\site-packages (0.3.19)\n",
      "Requirement already satisfied: numpy<1.25,>=1.7.1 in c:\\users\\venus\\anaconda3\\lib\\site-packages (from ISLP==0.3.19) (1.24.3)\n",
      "Requirement already satisfied: scipy>=0.9 in c:\\users\\venus\\anaconda3\\lib\\site-packages (from ISLP==0.3.19) (1.11.1)\n",
      "Requirement already satisfied: pandas<=1.9,>=0.20 in c:\\users\\venus\\anaconda3\\lib\\site-packages (from ISLP==0.3.19) (1.5.3)\n",
      "Requirement already satisfied: lxml in c:\\users\\venus\\anaconda3\\lib\\site-packages (from ISLP==0.3.19) (4.9.3)\n",
      "Requirement already satisfied: scikit-learn>=1.2 in c:\\users\\venus\\anaconda3\\lib\\site-packages (from ISLP==0.3.19) (1.3.0)\n",
      "Requirement already satisfied: joblib in c:\\users\\venus\\anaconda3\\lib\\site-packages (from ISLP==0.3.19) (1.2.0)\n",
      "Requirement already satisfied: statsmodels>=0.13 in c:\\users\\venus\\anaconda3\\lib\\site-packages (from ISLP==0.3.19) (0.14.0)\n",
      "Requirement already satisfied: lifelines in c:\\users\\venus\\anaconda3\\lib\\site-packages (from ISLP==0.3.19) (0.27.8)\n",
      "Requirement already satisfied: pygam in c:\\users\\venus\\anaconda3\\lib\\site-packages (from ISLP==0.3.19) (0.9.0)\n",
      "Requirement already satisfied: torch in c:\\users\\venus\\anaconda3\\lib\\site-packages (from ISLP==0.3.19) (2.1.0)\n",
      "Requirement already satisfied: pytorch-lightning in c:\\users\\venus\\anaconda3\\lib\\site-packages (from ISLP==0.3.19) (2.0.9.post0)\n",
      "Requirement already satisfied: torchmetrics in c:\\users\\venus\\anaconda3\\lib\\site-packages (from ISLP==0.3.19) (1.2.0)\n",
      "Requirement already satisfied: python-dateutil>=2.8.1 in c:\\users\\venus\\anaconda3\\lib\\site-packages (from pandas<=1.9,>=0.20->ISLP==0.3.19) (2.8.2)\n",
      "Requirement already satisfied: pytz>=2020.1 in c:\\users\\venus\\anaconda3\\lib\\site-packages (from pandas<=1.9,>=0.20->ISLP==0.3.19) (2023.3.post1)\n",
      "Requirement already satisfied: threadpoolctl>=2.0.0 in c:\\users\\venus\\anaconda3\\lib\\site-packages (from scikit-learn>=1.2->ISLP==0.3.19) (2.2.0)\n",
      "Requirement already satisfied: patsy>=0.5.2 in c:\\users\\venus\\anaconda3\\lib\\site-packages (from statsmodels>=0.13->ISLP==0.3.19) (0.5.3)\n",
      "Requirement already satisfied: packaging>=21.3 in c:\\users\\venus\\anaconda3\\lib\\site-packages (from statsmodels>=0.13->ISLP==0.3.19) (23.1)\n",
      "Requirement already satisfied: matplotlib>=3.0 in c:\\users\\venus\\anaconda3\\lib\\site-packages (from lifelines->ISLP==0.3.19) (3.7.2)\n",
      "Requirement already satisfied: autograd>=1.5 in c:\\users\\venus\\anaconda3\\lib\\site-packages (from lifelines->ISLP==0.3.19) (1.6.2)\n",
      "Requirement already satisfied: autograd-gamma>=0.3 in c:\\users\\venus\\anaconda3\\lib\\site-packages (from lifelines->ISLP==0.3.19) (0.5.0)\n",
      "Requirement already satisfied: formulaic>=0.2.2 in c:\\users\\venus\\anaconda3\\lib\\site-packages (from lifelines->ISLP==0.3.19) (0.6.6)\n",
      "Requirement already satisfied: progressbar2<5.0.0,>=4.2.0 in c:\\users\\venus\\anaconda3\\lib\\site-packages (from pygam->ISLP==0.3.19) (4.2.0)\n",
      "Requirement already satisfied: tqdm>=4.57.0 in c:\\users\\venus\\anaconda3\\lib\\site-packages (from pytorch-lightning->ISLP==0.3.19) (4.65.0)\n",
      "Requirement already satisfied: PyYAML>=5.4 in c:\\users\\venus\\anaconda3\\lib\\site-packages (from pytorch-lightning->ISLP==0.3.19) (6.0)\n",
      "Requirement already satisfied: fsspec[http]>2021.06.0 in c:\\users\\venus\\anaconda3\\lib\\site-packages (from pytorch-lightning->ISLP==0.3.19) (2023.4.0)\n",
      "Requirement already satisfied: typing-extensions>=4.0.0 in c:\\users\\venus\\anaconda3\\lib\\site-packages (from pytorch-lightning->ISLP==0.3.19) (4.7.1)\n",
      "Requirement already satisfied: lightning-utilities>=0.7.0 in c:\\users\\venus\\anaconda3\\lib\\site-packages (from pytorch-lightning->ISLP==0.3.19) (0.9.0)\n",
      "Requirement already satisfied: filelock in c:\\users\\venus\\anaconda3\\lib\\site-packages (from torch->ISLP==0.3.19) (3.9.0)\n",
      "Requirement already satisfied: sympy in c:\\users\\venus\\anaconda3\\lib\\site-packages (from torch->ISLP==0.3.19) (1.11.1)\n",
      "Requirement already satisfied: networkx in c:\\users\\venus\\anaconda3\\lib\\site-packages (from torch->ISLP==0.3.19) (3.1)\n",
      "Requirement already satisfied: jinja2 in c:\\users\\venus\\anaconda3\\lib\\site-packages (from torch->ISLP==0.3.19) (3.1.2)\n",
      "Requirement already satisfied: future>=0.15.2 in c:\\users\\venus\\anaconda3\\lib\\site-packages (from autograd>=1.5->lifelines->ISLP==0.3.19) (0.18.3)\n",
      "Requirement already satisfied: astor>=0.8 in c:\\users\\venus\\anaconda3\\lib\\site-packages (from formulaic>=0.2.2->lifelines->ISLP==0.3.19) (0.8.1)\n",
      "Requirement already satisfied: interface-meta>=1.2.0 in c:\\users\\venus\\anaconda3\\lib\\site-packages (from formulaic>=0.2.2->lifelines->ISLP==0.3.19) (1.3.0)\n",
      "Requirement already satisfied: wrapt>=1.0 in c:\\users\\venus\\anaconda3\\lib\\site-packages (from formulaic>=0.2.2->lifelines->ISLP==0.3.19) (1.14.1)\n",
      "Requirement already satisfied: requests in c:\\users\\venus\\anaconda3\\lib\\site-packages (from fsspec[http]>2021.06.0->pytorch-lightning->ISLP==0.3.19) (2.31.0)\n",
      "Requirement already satisfied: aiohttp!=4.0.0a0,!=4.0.0a1 in c:\\users\\venus\\anaconda3\\lib\\site-packages (from fsspec[http]>2021.06.0->pytorch-lightning->ISLP==0.3.19) (3.8.5)\n",
      "Requirement already satisfied: contourpy>=1.0.1 in c:\\users\\venus\\anaconda3\\lib\\site-packages (from matplotlib>=3.0->lifelines->ISLP==0.3.19) (1.0.5)\n",
      "Requirement already satisfied: cycler>=0.10 in c:\\users\\venus\\anaconda3\\lib\\site-packages (from matplotlib>=3.0->lifelines->ISLP==0.3.19) (0.11.0)\n",
      "Requirement already satisfied: fonttools>=4.22.0 in c:\\users\\venus\\anaconda3\\lib\\site-packages (from matplotlib>=3.0->lifelines->ISLP==0.3.19) (4.25.0)\n",
      "Requirement already satisfied: kiwisolver>=1.0.1 in c:\\users\\venus\\anaconda3\\lib\\site-packages (from matplotlib>=3.0->lifelines->ISLP==0.3.19) (1.4.4)\n",
      "Requirement already satisfied: pillow>=6.2.0 in c:\\users\\venus\\anaconda3\\lib\\site-packages (from matplotlib>=3.0->lifelines->ISLP==0.3.19) (9.4.0)\n",
      "Requirement already satisfied: pyparsing<3.1,>=2.3.1 in c:\\users\\venus\\anaconda3\\lib\\site-packages (from matplotlib>=3.0->lifelines->ISLP==0.3.19) (3.0.9)\n",
      "Requirement already satisfied: six in c:\\users\\venus\\anaconda3\\lib\\site-packages (from patsy>=0.5.2->statsmodels>=0.13->ISLP==0.3.19) (1.16.0)\n",
      "Requirement already satisfied: python-utils>=3.0.0 in c:\\users\\venus\\anaconda3\\lib\\site-packages (from progressbar2<5.0.0,>=4.2.0->pygam->ISLP==0.3.19) (3.8.1)\n",
      "Requirement already satisfied: colorama in c:\\users\\venus\\anaconda3\\lib\\site-packages (from tqdm>=4.57.0->pytorch-lightning->ISLP==0.3.19) (0.4.6)\n",
      "Requirement already satisfied: MarkupSafe>=2.0 in c:\\users\\venus\\anaconda3\\lib\\site-packages (from jinja2->torch->ISLP==0.3.19) (2.1.1)\n",
      "Requirement already satisfied: mpmath>=0.19 in c:\\users\\venus\\anaconda3\\lib\\site-packages (from sympy->torch->ISLP==0.3.19) (1.3.0)\n",
      "Requirement already satisfied: attrs>=17.3.0 in c:\\users\\venus\\anaconda3\\lib\\site-packages (from aiohttp!=4.0.0a0,!=4.0.0a1->fsspec[http]>2021.06.0->pytorch-lightning->ISLP==0.3.19) (22.1.0)\n",
      "Requirement already satisfied: charset-normalizer<4.0,>=2.0 in c:\\users\\venus\\anaconda3\\lib\\site-packages (from aiohttp!=4.0.0a0,!=4.0.0a1->fsspec[http]>2021.06.0->pytorch-lightning->ISLP==0.3.19) (2.0.4)\n",
      "Requirement already satisfied: multidict<7.0,>=4.5 in c:\\users\\venus\\anaconda3\\lib\\site-packages (from aiohttp!=4.0.0a0,!=4.0.0a1->fsspec[http]>2021.06.0->pytorch-lightning->ISLP==0.3.19) (6.0.2)\n",
      "Requirement already satisfied: async-timeout<5.0,>=4.0.0a3 in c:\\users\\venus\\anaconda3\\lib\\site-packages (from aiohttp!=4.0.0a0,!=4.0.0a1->fsspec[http]>2021.06.0->pytorch-lightning->ISLP==0.3.19) (4.0.2)\n",
      "Requirement already satisfied: yarl<2.0,>=1.0 in c:\\users\\venus\\anaconda3\\lib\\site-packages (from aiohttp!=4.0.0a0,!=4.0.0a1->fsspec[http]>2021.06.0->pytorch-lightning->ISLP==0.3.19) (1.8.1)\n",
      "Requirement already satisfied: frozenlist>=1.1.1 in c:\\users\\venus\\anaconda3\\lib\\site-packages (from aiohttp!=4.0.0a0,!=4.0.0a1->fsspec[http]>2021.06.0->pytorch-lightning->ISLP==0.3.19) (1.3.3)\n",
      "Requirement already satisfied: aiosignal>=1.1.2 in c:\\users\\venus\\anaconda3\\lib\\site-packages (from aiohttp!=4.0.0a0,!=4.0.0a1->fsspec[http]>2021.06.0->pytorch-lightning->ISLP==0.3.19) (1.2.0)\n",
      "Requirement already satisfied: idna<4,>=2.5 in c:\\users\\venus\\anaconda3\\lib\\site-packages (from requests->fsspec[http]>2021.06.0->pytorch-lightning->ISLP==0.3.19) (3.4)\n",
      "Requirement already satisfied: urllib3<3,>=1.21.1 in c:\\users\\venus\\anaconda3\\lib\\site-packages (from requests->fsspec[http]>2021.06.0->pytorch-lightning->ISLP==0.3.19) (1.26.16)\n",
      "Requirement already satisfied: certifi>=2017.4.17 in c:\\users\\venus\\anaconda3\\lib\\site-packages (from requests->fsspec[http]>2021.06.0->pytorch-lightning->ISLP==0.3.19) (2023.7.22)\n"
     ]
    }
   ],
   "source": [
    "!pip install ISLP==0.3.19"
   ]
  },
  {
   "cell_type": "code",
   "execution_count": 4,
   "id": "95e4a5eb",
   "metadata": {},
   "outputs": [],
   "source": [
    "from ISLP import load_data\n",
    "from ISLP.models import (ModelSpec as MS, summarize, poly)"
   ]
  },
  {
   "cell_type": "code",
   "execution_count": 5,
   "id": "5848281d",
   "metadata": {},
   "outputs": [],
   "source": [
    "from sklearn.preprocessing import PolynomialFeatures\n",
    "from sklearn import datasets, linear_model"
   ]
  },
  {
   "cell_type": "code",
   "execution_count": 6,
   "id": "93cf1fd6",
   "metadata": {},
   "outputs": [
    {
     "data": {
      "text/plain": [
       "Index(['Sales', 'CompPrice', 'Income', 'Advertising', 'Population', 'Price',\n",
       "       'ShelveLoc', 'Age', 'Education', 'Urban', 'US'],\n",
       "      dtype='object')"
      ]
     },
     "execution_count": 6,
     "metadata": {},
     "output_type": "execute_result"
    }
   ],
   "source": [
    "Carseats = load_data(\"Carseats\")\n",
    "Carseats.columns"
   ]
  },
  {
   "cell_type": "code",
   "execution_count": 7,
   "id": "fd8875a0",
   "metadata": {},
   "outputs": [
    {
     "data": {
      "text/html": [
       "<div>\n",
       "<style scoped>\n",
       "    .dataframe tbody tr th:only-of-type {\n",
       "        vertical-align: middle;\n",
       "    }\n",
       "\n",
       "    .dataframe tbody tr th {\n",
       "        vertical-align: top;\n",
       "    }\n",
       "\n",
       "    .dataframe thead th {\n",
       "        text-align: right;\n",
       "    }\n",
       "</style>\n",
       "<table border=\"1\" class=\"dataframe\">\n",
       "  <thead>\n",
       "    <tr style=\"text-align: right;\">\n",
       "      <th></th>\n",
       "      <th>Sales</th>\n",
       "      <th>CompPrice</th>\n",
       "      <th>Income</th>\n",
       "      <th>Advertising</th>\n",
       "      <th>Population</th>\n",
       "      <th>Price</th>\n",
       "      <th>ShelveLoc</th>\n",
       "      <th>Age</th>\n",
       "      <th>Education</th>\n",
       "      <th>Urban</th>\n",
       "      <th>US</th>\n",
       "    </tr>\n",
       "  </thead>\n",
       "  <tbody>\n",
       "    <tr>\n",
       "      <th>0</th>\n",
       "      <td>9.50</td>\n",
       "      <td>138</td>\n",
       "      <td>73</td>\n",
       "      <td>11</td>\n",
       "      <td>276</td>\n",
       "      <td>120</td>\n",
       "      <td>Bad</td>\n",
       "      <td>42</td>\n",
       "      <td>17</td>\n",
       "      <td>Yes</td>\n",
       "      <td>Yes</td>\n",
       "    </tr>\n",
       "    <tr>\n",
       "      <th>1</th>\n",
       "      <td>11.22</td>\n",
       "      <td>111</td>\n",
       "      <td>48</td>\n",
       "      <td>16</td>\n",
       "      <td>260</td>\n",
       "      <td>83</td>\n",
       "      <td>Good</td>\n",
       "      <td>65</td>\n",
       "      <td>10</td>\n",
       "      <td>Yes</td>\n",
       "      <td>Yes</td>\n",
       "    </tr>\n",
       "    <tr>\n",
       "      <th>2</th>\n",
       "      <td>10.06</td>\n",
       "      <td>113</td>\n",
       "      <td>35</td>\n",
       "      <td>10</td>\n",
       "      <td>269</td>\n",
       "      <td>80</td>\n",
       "      <td>Medium</td>\n",
       "      <td>59</td>\n",
       "      <td>12</td>\n",
       "      <td>Yes</td>\n",
       "      <td>Yes</td>\n",
       "    </tr>\n",
       "    <tr>\n",
       "      <th>3</th>\n",
       "      <td>7.40</td>\n",
       "      <td>117</td>\n",
       "      <td>100</td>\n",
       "      <td>4</td>\n",
       "      <td>466</td>\n",
       "      <td>97</td>\n",
       "      <td>Medium</td>\n",
       "      <td>55</td>\n",
       "      <td>14</td>\n",
       "      <td>Yes</td>\n",
       "      <td>Yes</td>\n",
       "    </tr>\n",
       "    <tr>\n",
       "      <th>4</th>\n",
       "      <td>4.15</td>\n",
       "      <td>141</td>\n",
       "      <td>64</td>\n",
       "      <td>3</td>\n",
       "      <td>340</td>\n",
       "      <td>128</td>\n",
       "      <td>Bad</td>\n",
       "      <td>38</td>\n",
       "      <td>13</td>\n",
       "      <td>Yes</td>\n",
       "      <td>No</td>\n",
       "    </tr>\n",
       "  </tbody>\n",
       "</table>\n",
       "</div>"
      ],
      "text/plain": [
       "   Sales  CompPrice  Income  Advertising  Population  Price ShelveLoc  Age  \\\n",
       "0   9.50        138      73           11         276    120       Bad   42   \n",
       "1  11.22        111      48           16         260     83      Good   65   \n",
       "2  10.06        113      35           10         269     80    Medium   59   \n",
       "3   7.40        117     100            4         466     97    Medium   55   \n",
       "4   4.15        141      64            3         340    128       Bad   38   \n",
       "\n",
       "   Education Urban   US  \n",
       "0         17   Yes  Yes  \n",
       "1         10   Yes  Yes  \n",
       "2         12   Yes  Yes  \n",
       "3         14   Yes  Yes  \n",
       "4         13   Yes   No  "
      ]
     },
     "execution_count": 7,
     "metadata": {},
     "output_type": "execute_result"
    }
   ],
   "source": [
    "Carseats.head()"
   ]
  },
  {
   "cell_type": "code",
   "execution_count": 8,
   "id": "66a90d8a",
   "metadata": {},
   "outputs": [
    {
     "data": {
      "text/html": [
       "<table class=\"simpletable\">\n",
       "<caption>OLS Regression Results</caption>\n",
       "<tr>\n",
       "  <th>Dep. Variable:</th>          <td>Sales</td>      <th>  R-squared:         </th> <td>   0.239</td>\n",
       "</tr>\n",
       "<tr>\n",
       "  <th>Model:</th>                   <td>OLS</td>       <th>  Adj. R-squared:    </th> <td>   0.234</td>\n",
       "</tr>\n",
       "<tr>\n",
       "  <th>Method:</th>             <td>Least Squares</td>  <th>  F-statistic:       </th> <td>   41.52</td>\n",
       "</tr>\n",
       "<tr>\n",
       "  <th>Date:</th>             <td>Sun, 08 Oct 2023</td> <th>  Prob (F-statistic):</th> <td>2.39e-23</td>\n",
       "</tr>\n",
       "<tr>\n",
       "  <th>Time:</th>                 <td>17:08:59</td>     <th>  Log-Likelihood:    </th> <td> -927.66</td>\n",
       "</tr>\n",
       "<tr>\n",
       "  <th>No. Observations:</th>      <td>   400</td>      <th>  AIC:               </th> <td>   1863.</td>\n",
       "</tr>\n",
       "<tr>\n",
       "  <th>Df Residuals:</th>          <td>   396</td>      <th>  BIC:               </th> <td>   1879.</td>\n",
       "</tr>\n",
       "<tr>\n",
       "  <th>Df Model:</th>              <td>     3</td>      <th>                     </th>     <td> </td>   \n",
       "</tr>\n",
       "<tr>\n",
       "  <th>Covariance Type:</th>      <td>nonrobust</td>    <th>                     </th>     <td> </td>   \n",
       "</tr>\n",
       "</table>\n",
       "<table class=\"simpletable\">\n",
       "<tr>\n",
       "       <td></td>         <th>coef</th>     <th>std err</th>      <th>t</th>      <th>P>|t|</th>  <th>[0.025</th>    <th>0.975]</th>  \n",
       "</tr>\n",
       "<tr>\n",
       "  <th>intercept</th>  <td>   13.0435</td> <td>    0.651</td> <td>   20.036</td> <td> 0.000</td> <td>   11.764</td> <td>   14.323</td>\n",
       "</tr>\n",
       "<tr>\n",
       "  <th>Price</th>      <td>   -0.0545</td> <td>    0.005</td> <td>  -10.389</td> <td> 0.000</td> <td>   -0.065</td> <td>   -0.044</td>\n",
       "</tr>\n",
       "<tr>\n",
       "  <th>Urban[Yes]</th> <td>   -0.0219</td> <td>    0.272</td> <td>   -0.081</td> <td> 0.936</td> <td>   -0.556</td> <td>    0.512</td>\n",
       "</tr>\n",
       "<tr>\n",
       "  <th>US[Yes]</th>    <td>    1.2006</td> <td>    0.259</td> <td>    4.635</td> <td> 0.000</td> <td>    0.691</td> <td>    1.710</td>\n",
       "</tr>\n",
       "</table>\n",
       "<table class=\"simpletable\">\n",
       "<tr>\n",
       "  <th>Omnibus:</th>       <td> 0.676</td> <th>  Durbin-Watson:     </th> <td>   1.912</td>\n",
       "</tr>\n",
       "<tr>\n",
       "  <th>Prob(Omnibus):</th> <td> 0.713</td> <th>  Jarque-Bera (JB):  </th> <td>   0.758</td>\n",
       "</tr>\n",
       "<tr>\n",
       "  <th>Skew:</th>          <td> 0.093</td> <th>  Prob(JB):          </th> <td>   0.684</td>\n",
       "</tr>\n",
       "<tr>\n",
       "  <th>Kurtosis:</th>      <td> 2.897</td> <th>  Cond. No.          </th> <td>    628.</td>\n",
       "</tr>\n",
       "</table><br/><br/>Notes:<br/>[1] Standard Errors assume that the covariance matrix of the errors is correctly specified."
      ],
      "text/latex": [
       "\\begin{center}\n",
       "\\begin{tabular}{lclc}\n",
       "\\toprule\n",
       "\\textbf{Dep. Variable:}    &      Sales       & \\textbf{  R-squared:         } &     0.239   \\\\\n",
       "\\textbf{Model:}            &       OLS        & \\textbf{  Adj. R-squared:    } &     0.234   \\\\\n",
       "\\textbf{Method:}           &  Least Squares   & \\textbf{  F-statistic:       } &     41.52   \\\\\n",
       "\\textbf{Date:}             & Sun, 08 Oct 2023 & \\textbf{  Prob (F-statistic):} &  2.39e-23   \\\\\n",
       "\\textbf{Time:}             &     17:08:59     & \\textbf{  Log-Likelihood:    } &   -927.66   \\\\\n",
       "\\textbf{No. Observations:} &         400      & \\textbf{  AIC:               } &     1863.   \\\\\n",
       "\\textbf{Df Residuals:}     &         396      & \\textbf{  BIC:               } &     1879.   \\\\\n",
       "\\textbf{Df Model:}         &           3      & \\textbf{                     } &             \\\\\n",
       "\\textbf{Covariance Type:}  &    nonrobust     & \\textbf{                     } &             \\\\\n",
       "\\bottomrule\n",
       "\\end{tabular}\n",
       "\\begin{tabular}{lcccccc}\n",
       "                    & \\textbf{coef} & \\textbf{std err} & \\textbf{t} & \\textbf{P$> |$t$|$} & \\textbf{[0.025} & \\textbf{0.975]}  \\\\\n",
       "\\midrule\n",
       "\\textbf{intercept}  &      13.0435  &        0.651     &    20.036  &         0.000        &       11.764    &       14.323     \\\\\n",
       "\\textbf{Price}      &      -0.0545  &        0.005     &   -10.389  &         0.000        &       -0.065    &       -0.044     \\\\\n",
       "\\textbf{Urban[Yes]} &      -0.0219  &        0.272     &    -0.081  &         0.936        &       -0.556    &        0.512     \\\\\n",
       "\\textbf{US[Yes]}    &       1.2006  &        0.259     &     4.635  &         0.000        &        0.691    &        1.710     \\\\\n",
       "\\bottomrule\n",
       "\\end{tabular}\n",
       "\\begin{tabular}{lclc}\n",
       "\\textbf{Omnibus:}       &  0.676 & \\textbf{  Durbin-Watson:     } &    1.912  \\\\\n",
       "\\textbf{Prob(Omnibus):} &  0.713 & \\textbf{  Jarque-Bera (JB):  } &    0.758  \\\\\n",
       "\\textbf{Skew:}          &  0.093 & \\textbf{  Prob(JB):          } &    0.684  \\\\\n",
       "\\textbf{Kurtosis:}      &  2.897 & \\textbf{  Cond. No.          } &     628.  \\\\\n",
       "\\bottomrule\n",
       "\\end{tabular}\n",
       "%\\caption{OLS Regression Results}\n",
       "\\end{center}\n",
       "\n",
       "Notes: \\newline\n",
       " [1] Standard Errors assume that the covariance matrix of the errors is correctly specified."
      ],
      "text/plain": [
       "<class 'statsmodels.iolib.summary.Summary'>\n",
       "\"\"\"\n",
       "                            OLS Regression Results                            \n",
       "==============================================================================\n",
       "Dep. Variable:                  Sales   R-squared:                       0.239\n",
       "Model:                            OLS   Adj. R-squared:                  0.234\n",
       "Method:                 Least Squares   F-statistic:                     41.52\n",
       "Date:                Sun, 08 Oct 2023   Prob (F-statistic):           2.39e-23\n",
       "Time:                        17:08:59   Log-Likelihood:                -927.66\n",
       "No. Observations:                 400   AIC:                             1863.\n",
       "Df Residuals:                     396   BIC:                             1879.\n",
       "Df Model:                           3                                         \n",
       "Covariance Type:            nonrobust                                         \n",
       "==============================================================================\n",
       "                 coef    std err          t      P>|t|      [0.025      0.975]\n",
       "------------------------------------------------------------------------------\n",
       "intercept     13.0435      0.651     20.036      0.000      11.764      14.323\n",
       "Price         -0.0545      0.005    -10.389      0.000      -0.065      -0.044\n",
       "Urban[Yes]    -0.0219      0.272     -0.081      0.936      -0.556       0.512\n",
       "US[Yes]        1.2006      0.259      4.635      0.000       0.691       1.710\n",
       "==============================================================================\n",
       "Omnibus:                        0.676   Durbin-Watson:                   1.912\n",
       "Prob(Omnibus):                  0.713   Jarque-Bera (JB):                0.758\n",
       "Skew:                           0.093   Prob(JB):                        0.684\n",
       "Kurtosis:                       2.897   Cond. No.                         628.\n",
       "==============================================================================\n",
       "\n",
       "Notes:\n",
       "[1] Standard Errors assume that the covariance matrix of the errors is correctly specified.\n",
       "\"\"\""
      ]
     },
     "execution_count": 8,
     "metadata": {},
     "output_type": "execute_result"
    }
   ],
   "source": [
    "#a\n",
    "Vars = ['Price','Urban','US']\n",
    "y = Carseats['Sales']\n",
    "X = MS(Vars).fit_transform(Carseats)\n",
    "model = sm.OLS(y, X) #Fitting Mutilinear Regression Model\n",
    "results = model.fit()\n",
    "results.summary()"
   ]
  },
  {
   "cell_type": "code",
   "execution_count": 9,
   "id": "dda93b2a",
   "metadata": {},
   "outputs": [
    {
     "data": {
      "text/html": [
       "<table class=\"simpletable\">\n",
       "<caption>OLS Regression Results</caption>\n",
       "<tr>\n",
       "  <th>Dep. Variable:</th>          <td>Sales</td>      <th>  R-squared:         </th> <td>   0.239</td>\n",
       "</tr>\n",
       "<tr>\n",
       "  <th>Model:</th>                   <td>OLS</td>       <th>  Adj. R-squared:    </th> <td>   0.235</td>\n",
       "</tr>\n",
       "<tr>\n",
       "  <th>Method:</th>             <td>Least Squares</td>  <th>  F-statistic:       </th> <td>   62.43</td>\n",
       "</tr>\n",
       "<tr>\n",
       "  <th>Date:</th>             <td>Sun, 08 Oct 2023</td> <th>  Prob (F-statistic):</th> <td>2.66e-24</td>\n",
       "</tr>\n",
       "<tr>\n",
       "  <th>Time:</th>                 <td>17:08:59</td>     <th>  Log-Likelihood:    </th> <td> -927.66</td>\n",
       "</tr>\n",
       "<tr>\n",
       "  <th>No. Observations:</th>      <td>   400</td>      <th>  AIC:               </th> <td>   1861.</td>\n",
       "</tr>\n",
       "<tr>\n",
       "  <th>Df Residuals:</th>          <td>   397</td>      <th>  BIC:               </th> <td>   1873.</td>\n",
       "</tr>\n",
       "<tr>\n",
       "  <th>Df Model:</th>              <td>     2</td>      <th>                     </th>     <td> </td>   \n",
       "</tr>\n",
       "<tr>\n",
       "  <th>Covariance Type:</th>      <td>nonrobust</td>    <th>                     </th>     <td> </td>   \n",
       "</tr>\n",
       "</table>\n",
       "<table class=\"simpletable\">\n",
       "<tr>\n",
       "      <td></td>         <th>coef</th>     <th>std err</th>      <th>t</th>      <th>P>|t|</th>  <th>[0.025</th>    <th>0.975]</th>  \n",
       "</tr>\n",
       "<tr>\n",
       "  <th>intercept</th> <td>   13.0308</td> <td>    0.631</td> <td>   20.652</td> <td> 0.000</td> <td>   11.790</td> <td>   14.271</td>\n",
       "</tr>\n",
       "<tr>\n",
       "  <th>Price</th>     <td>   -0.0545</td> <td>    0.005</td> <td>  -10.416</td> <td> 0.000</td> <td>   -0.065</td> <td>   -0.044</td>\n",
       "</tr>\n",
       "<tr>\n",
       "  <th>US[Yes]</th>   <td>    1.1996</td> <td>    0.258</td> <td>    4.641</td> <td> 0.000</td> <td>    0.692</td> <td>    1.708</td>\n",
       "</tr>\n",
       "</table>\n",
       "<table class=\"simpletable\">\n",
       "<tr>\n",
       "  <th>Omnibus:</th>       <td> 0.666</td> <th>  Durbin-Watson:     </th> <td>   1.912</td>\n",
       "</tr>\n",
       "<tr>\n",
       "  <th>Prob(Omnibus):</th> <td> 0.717</td> <th>  Jarque-Bera (JB):  </th> <td>   0.749</td>\n",
       "</tr>\n",
       "<tr>\n",
       "  <th>Skew:</th>          <td> 0.092</td> <th>  Prob(JB):          </th> <td>   0.688</td>\n",
       "</tr>\n",
       "<tr>\n",
       "  <th>Kurtosis:</th>      <td> 2.895</td> <th>  Cond. No.          </th> <td>    607.</td>\n",
       "</tr>\n",
       "</table><br/><br/>Notes:<br/>[1] Standard Errors assume that the covariance matrix of the errors is correctly specified."
      ],
      "text/latex": [
       "\\begin{center}\n",
       "\\begin{tabular}{lclc}\n",
       "\\toprule\n",
       "\\textbf{Dep. Variable:}    &      Sales       & \\textbf{  R-squared:         } &     0.239   \\\\\n",
       "\\textbf{Model:}            &       OLS        & \\textbf{  Adj. R-squared:    } &     0.235   \\\\\n",
       "\\textbf{Method:}           &  Least Squares   & \\textbf{  F-statistic:       } &     62.43   \\\\\n",
       "\\textbf{Date:}             & Sun, 08 Oct 2023 & \\textbf{  Prob (F-statistic):} &  2.66e-24   \\\\\n",
       "\\textbf{Time:}             &     17:08:59     & \\textbf{  Log-Likelihood:    } &   -927.66   \\\\\n",
       "\\textbf{No. Observations:} &         400      & \\textbf{  AIC:               } &     1861.   \\\\\n",
       "\\textbf{Df Residuals:}     &         397      & \\textbf{  BIC:               } &     1873.   \\\\\n",
       "\\textbf{Df Model:}         &           2      & \\textbf{                     } &             \\\\\n",
       "\\textbf{Covariance Type:}  &    nonrobust     & \\textbf{                     } &             \\\\\n",
       "\\bottomrule\n",
       "\\end{tabular}\n",
       "\\begin{tabular}{lcccccc}\n",
       "                   & \\textbf{coef} & \\textbf{std err} & \\textbf{t} & \\textbf{P$> |$t$|$} & \\textbf{[0.025} & \\textbf{0.975]}  \\\\\n",
       "\\midrule\n",
       "\\textbf{intercept} &      13.0308  &        0.631     &    20.652  &         0.000        &       11.790    &       14.271     \\\\\n",
       "\\textbf{Price}     &      -0.0545  &        0.005     &   -10.416  &         0.000        &       -0.065    &       -0.044     \\\\\n",
       "\\textbf{US[Yes]}   &       1.1996  &        0.258     &     4.641  &         0.000        &        0.692    &        1.708     \\\\\n",
       "\\bottomrule\n",
       "\\end{tabular}\n",
       "\\begin{tabular}{lclc}\n",
       "\\textbf{Omnibus:}       &  0.666 & \\textbf{  Durbin-Watson:     } &    1.912  \\\\\n",
       "\\textbf{Prob(Omnibus):} &  0.717 & \\textbf{  Jarque-Bera (JB):  } &    0.749  \\\\\n",
       "\\textbf{Skew:}          &  0.092 & \\textbf{  Prob(JB):          } &    0.688  \\\\\n",
       "\\textbf{Kurtosis:}      &  2.895 & \\textbf{  Cond. No.          } &     607.  \\\\\n",
       "\\bottomrule\n",
       "\\end{tabular}\n",
       "%\\caption{OLS Regression Results}\n",
       "\\end{center}\n",
       "\n",
       "Notes: \\newline\n",
       " [1] Standard Errors assume that the covariance matrix of the errors is correctly specified."
      ],
      "text/plain": [
       "<class 'statsmodels.iolib.summary.Summary'>\n",
       "\"\"\"\n",
       "                            OLS Regression Results                            \n",
       "==============================================================================\n",
       "Dep. Variable:                  Sales   R-squared:                       0.239\n",
       "Model:                            OLS   Adj. R-squared:                  0.235\n",
       "Method:                 Least Squares   F-statistic:                     62.43\n",
       "Date:                Sun, 08 Oct 2023   Prob (F-statistic):           2.66e-24\n",
       "Time:                        17:08:59   Log-Likelihood:                -927.66\n",
       "No. Observations:                 400   AIC:                             1861.\n",
       "Df Residuals:                     397   BIC:                             1873.\n",
       "Df Model:                           2                                         \n",
       "Covariance Type:            nonrobust                                         \n",
       "==============================================================================\n",
       "                 coef    std err          t      P>|t|      [0.025      0.975]\n",
       "------------------------------------------------------------------------------\n",
       "intercept     13.0308      0.631     20.652      0.000      11.790      14.271\n",
       "Price         -0.0545      0.005    -10.416      0.000      -0.065      -0.044\n",
       "US[Yes]        1.1996      0.258      4.641      0.000       0.692       1.708\n",
       "==============================================================================\n",
       "Omnibus:                        0.666   Durbin-Watson:                   1.912\n",
       "Prob(Omnibus):                  0.717   Jarque-Bera (JB):                0.749\n",
       "Skew:                           0.092   Prob(JB):                        0.688\n",
       "Kurtosis:                       2.895   Cond. No.                         607.\n",
       "==============================================================================\n",
       "\n",
       "Notes:\n",
       "[1] Standard Errors assume that the covariance matrix of the errors is correctly specified.\n",
       "\"\"\""
      ]
     },
     "execution_count": 9,
     "metadata": {},
     "output_type": "execute_result"
    }
   ],
   "source": [
    "#e\n",
    "Vars1 = ['Price','US']\n",
    "y = Carseats['Sales']\n",
    "X = MS(Vars1).fit_transform(Carseats)\n",
    "model = sm.OLS(y, X) # Fitting Mutilinear Regression Model\n",
    "results1 = model.fit()\n",
    "results1.summary()"
   ]
  },
  {
   "cell_type": "code",
   "execution_count": 10,
   "id": "78f3692b",
   "metadata": {},
   "outputs": [
    {
     "name": "stdout",
     "output_type": "stream",
     "text": [
      "                  0          1\n",
      "intercept  11.79032  14.271265\n",
      "Price      -0.06476  -0.044195\n",
      "US[Yes]     0.69152   1.707766\n"
     ]
    }
   ],
   "source": [
    "#g 95% C.I.\n",
    "print(results1.conf_int(alpha=0.05,cols=None))"
   ]
  },
  {
   "cell_type": "code",
   "execution_count": 20,
   "id": "81c6329c",
   "metadata": {},
   "outputs": [
    {
     "data": {
      "text/plain": [
       "Text(0.5, 1.0, 'Residual vs Fitted')"
      ]
     },
     "execution_count": 20,
     "metadata": {},
     "output_type": "execute_result"
    },
    {
     "data": {
      "image/png": "[encoded data removed]",
      "text/plain": [
       "<Figure size 640x480 with 1 Axes>"
      ]
     },
     "metadata": {},
     "output_type": "display_data"
    }
   ],
   "source": [
    "#h\n",
    "from matplotlib import pyplot as plt\n",
    "plt.scatter(results1.fittedvalues , results1.resid)\n",
    "plt.axhline(y = 0, color = 'r', linestyle = '--')\n",
    "plt.xlabel('Fitted value')\n",
    "plt.ylabel('Residual')\n",
    "plt.title('Residual vs Fitted')"
   ]
  },
  {
   "cell_type": "code",
   "execution_count": 13,
   "id": "e51eabf7",
   "metadata": {},
   "outputs": [
    {
     "data": {
      "text/plain": [
       "Text(0.5, 1.0, 'Residual vs Leverage')"
      ]
     },
     "execution_count": 13,
     "metadata": {},
     "output_type": "execute_result"
    },
    {
     "data": {
      "image/png": "[encoded data removed]",
      "text/plain": [
       "<Figure size 640x480 with 1 Axes>"
      ]
     },
     "metadata": {},
     "output_type": "display_data"
    }
   ],
   "source": [
    "from matplotlib import pyplot as plt\n",
    "plt.scatter(results1.get_influence().hat_matrix_diag, results1.resid)\n",
    "plt.xlabel('Leverage')\n",
    "plt.ylabel('Residual')\n",
    "plt.title('Residual vs Leverage')"
   ]
  },
  {
   "cell_type": "code",
   "execution_count": null,
   "id": "ac5df587",
   "metadata": {},
   "outputs": [],
   "source": []
  }
 ],
 "metadata": {
  "kernelspec": {
   "display_name": "Python 3 (ipykernel)",
   "language": "python",
   "name": "python3"
  },
  "language_info": {
   "codemirror_mode": {
    "name": "ipython",
    "version": 3
   },
   "file_extension": ".py",
   "mimetype": "text/x-python",
   "name": "python",
   "nbconvert_exporter": "python",
   "pygments_lexer": "ipython3",
   "version": "3.11.5"
  }
 },
 "nbformat": 4,
 "nbformat_minor": 5
}
